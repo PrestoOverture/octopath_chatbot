{
  "cells": [
    {
      "cell_type": "code",
      "execution_count": 1,
      "metadata": {
        "colab": {
          "base_uri": "https://localhost:8080/"
        },
        "id": "8mXuo5utbXjf",
        "outputId": "686ac750-6182-4a05-c352-61a9afa01caa"
      },
      "outputs": [
        {
          "name": "stdout",
          "output_type": "stream",
          "text": [
            "Collecting gradio\n",
            "  Downloading gradio-5.12.0-py3-none-any.whl.metadata (16 kB)\n",
            "Collecting langchain-community\n",
            "  Downloading langchain_community-0.3.15-py3-none-any.whl.metadata (2.9 kB)\n",
            "Collecting langchain-openai\n",
            "  Downloading langchain_openai-0.3.1-py3-none-any.whl.metadata (2.7 kB)\n",
            "Collecting langchain-chroma\n",
            "  Downloading langchain_chroma-0.2.0-py3-none-any.whl.metadata (1.7 kB)\n",
            "Collecting aiofiles<24.0,>=22.0 (from gradio)\n",
            "  Downloading aiofiles-23.2.1-py3-none-any.whl.metadata (9.7 kB)\n",
            "Requirement already satisfied: anyio<5.0,>=3.0 in /usr/local/lib/python3.11/dist-packages (from gradio) (3.7.1)\n",
            "Collecting fastapi<1.0,>=0.115.2 (from gradio)\n",
            "  Downloading fastapi-0.115.6-py3-none-any.whl.metadata (27 kB)\n",
            "Collecting ffmpy (from gradio)\n",
            "  Downloading ffmpy-0.5.0-py3-none-any.whl.metadata (3.0 kB)\n",
            "Collecting gradio-client==1.5.4 (from gradio)\n",
            "  Downloading gradio_client-1.5.4-py3-none-any.whl.metadata (7.1 kB)\n",
            "Requirement already satisfied: httpx>=0.24.1 in /usr/local/lib/python3.11/dist-packages (from gradio) (0.28.1)\n",
            "Requirement already satisfied: huggingface-hub>=0.25.1 in /usr/local/lib/python3.11/dist-packages (from gradio) (0.27.1)\n",
            "Requirement already satisfied: jinja2<4.0 in /usr/local/lib/python3.11/dist-packages (from gradio) (3.1.5)\n",
            "Collecting markupsafe~=2.0 (from gradio)\n",
            "  Downloading MarkupSafe-2.1.5-cp311-cp311-manylinux_2_17_x86_64.manylinux2014_x86_64.whl.metadata (3.0 kB)\n",
            "Requirement already satisfied: numpy<3.0,>=1.0 in /usr/local/lib/python3.11/dist-packages (from gradio) (1.26.4)\n",
            "Requirement already satisfied: orjson~=3.0 in /usr/local/lib/python3.11/dist-packages (from gradio) (3.10.14)\n",
            "Requirement already satisfied: packaging in /usr/local/lib/python3.11/dist-packages (from gradio) (24.2)\n",
            "Requirement already satisfied: pandas<3.0,>=1.0 in /usr/local/lib/python3.11/dist-packages (from gradio) (2.2.2)\n",
            "Requirement already satisfied: pillow<12.0,>=8.0 in /usr/local/lib/python3.11/dist-packages (from gradio) (11.1.0)\n",
            "Requirement already satisfied: pydantic>=2.0 in /usr/local/lib/python3.11/dist-packages (from gradio) (2.10.5)\n",
            "Collecting pydub (from gradio)\n",
            "  Downloading pydub-0.25.1-py2.py3-none-any.whl.metadata (1.4 kB)\n",
            "Collecting python-multipart>=0.0.18 (from gradio)\n",
            "  Downloading python_multipart-0.0.20-py3-none-any.whl.metadata (1.8 kB)\n",
            "Requirement already satisfied: pyyaml<7.0,>=5.0 in /usr/local/lib/python3.11/dist-packages (from gradio) (6.0.2)\n",
            "Collecting ruff>=0.2.2 (from gradio)\n",
            "  Downloading ruff-0.9.2-py3-none-manylinux_2_17_x86_64.manylinux2014_x86_64.whl.metadata (25 kB)\n",
            "Collecting safehttpx<0.2.0,>=0.1.6 (from gradio)\n",
            "  Downloading safehttpx-0.1.6-py3-none-any.whl.metadata (4.2 kB)\n",
            "Collecting semantic-version~=2.0 (from gradio)\n",
            "  Downloading semantic_version-2.10.0-py2.py3-none-any.whl.metadata (9.7 kB)\n",
            "Collecting starlette<1.0,>=0.40.0 (from gradio)\n",
            "  Downloading starlette-0.45.2-py3-none-any.whl.metadata (6.3 kB)\n",
            "Collecting tomlkit<0.14.0,>=0.12.0 (from gradio)\n",
            "  Downloading tomlkit-0.13.2-py3-none-any.whl.metadata (2.7 kB)\n",
            "Requirement already satisfied: typer<1.0,>=0.12 in /usr/local/lib/python3.11/dist-packages (from gradio) (0.15.1)\n",
            "Requirement already satisfied: typing-extensions~=4.0 in /usr/local/lib/python3.11/dist-packages (from gradio) (4.12.2)\n",
            "Collecting uvicorn>=0.14.0 (from gradio)\n",
            "  Downloading uvicorn-0.34.0-py3-none-any.whl.metadata (6.5 kB)\n",
            "Requirement already satisfied: fsspec in /usr/local/lib/python3.11/dist-packages (from gradio-client==1.5.4->gradio) (2024.10.0)\n",
            "Requirement already satisfied: websockets<15.0,>=10.0 in /usr/local/lib/python3.11/dist-packages (from gradio-client==1.5.4->gradio) (14.1)\n",
            "Requirement already satisfied: SQLAlchemy<3,>=1.4 in /usr/local/lib/python3.11/dist-packages (from langchain-community) (2.0.37)\n",
            "Requirement already satisfied: aiohttp<4.0.0,>=3.8.3 in /usr/local/lib/python3.11/dist-packages (from langchain-community) (3.11.11)\n",
            "Collecting dataclasses-json<0.7,>=0.5.7 (from langchain-community)\n",
            "  Downloading dataclasses_json-0.6.7-py3-none-any.whl.metadata (25 kB)\n",
            "Collecting httpx-sse<0.5.0,>=0.4.0 (from langchain-community)\n",
            "  Downloading httpx_sse-0.4.0-py3-none-any.whl.metadata (9.0 kB)\n",
            "Collecting langchain<0.4.0,>=0.3.15 (from langchain-community)\n",
            "  Downloading langchain-0.3.15-py3-none-any.whl.metadata (7.1 kB)\n",
            "Collecting langchain-core<0.4.0,>=0.3.31 (from langchain-community)\n",
            "  Downloading langchain_core-0.3.31-py3-none-any.whl.metadata (6.3 kB)\n",
            "Requirement already satisfied: langsmith<0.4,>=0.1.125 in /usr/local/lib/python3.11/dist-packages (from langchain-community) (0.2.10)\n",
            "Collecting pydantic-settings<3.0.0,>=2.4.0 (from langchain-community)\n",
            "  Downloading pydantic_settings-2.7.1-py3-none-any.whl.metadata (3.5 kB)\n",
            "Requirement already satisfied: requests<3,>=2 in /usr/local/lib/python3.11/dist-packages (from langchain-community) (2.32.3)\n",
            "Requirement already satisfied: tenacity!=8.4.0,<10,>=8.1.0 in /usr/local/lib/python3.11/dist-packages (from langchain-community) (9.0.0)\n",
            "Requirement already satisfied: openai<2.0.0,>=1.58.1 in /usr/local/lib/python3.11/dist-packages (from langchain-openai) (1.59.6)\n",
            "Collecting tiktoken<1,>=0.7 (from langchain-openai)\n",
            "  Downloading tiktoken-0.8.0-cp311-cp311-manylinux_2_17_x86_64.manylinux2014_x86_64.whl.metadata (6.6 kB)\n",
            "Collecting chromadb!=0.5.10,!=0.5.11,!=0.5.12,!=0.5.4,!=0.5.5,!=0.5.7,!=0.5.9,<0.6.0,>=0.4.0 (from langchain-chroma)\n",
            "  Downloading chromadb-0.5.23-py3-none-any.whl.metadata (6.8 kB)\n",
            "Requirement already satisfied: aiohappyeyeballs>=2.3.0 in /usr/local/lib/python3.11/dist-packages (from aiohttp<4.0.0,>=3.8.3->langchain-community) (2.4.4)\n",
            "Requirement already satisfied: aiosignal>=1.1.2 in /usr/local/lib/python3.11/dist-packages (from aiohttp<4.0.0,>=3.8.3->langchain-community) (1.3.2)\n",
            "Requirement already satisfied: attrs>=17.3.0 in /usr/local/lib/python3.11/dist-packages (from aiohttp<4.0.0,>=3.8.3->langchain-community) (24.3.0)\n",
            "Requirement already satisfied: frozenlist>=1.1.1 in /usr/local/lib/python3.11/dist-packages (from aiohttp<4.0.0,>=3.8.3->langchain-community) (1.5.0)\n",
            "Requirement already satisfied: multidict<7.0,>=4.5 in /usr/local/lib/python3.11/dist-packages (from aiohttp<4.0.0,>=3.8.3->langchain-community) (6.1.0)\n",
            "Requirement already satisfied: propcache>=0.2.0 in /usr/local/lib/python3.11/dist-packages (from aiohttp<4.0.0,>=3.8.3->langchain-community) (0.2.1)\n",
            "Requirement already satisfied: yarl<2.0,>=1.17.0 in /usr/local/lib/python3.11/dist-packages (from aiohttp<4.0.0,>=3.8.3->langchain-community) (1.18.3)\n",
            "Requirement already satisfied: idna>=2.8 in /usr/local/lib/python3.11/dist-packages (from anyio<5.0,>=3.0->gradio) (3.10)\n",
            "Requirement already satisfied: sniffio>=1.1 in /usr/local/lib/python3.11/dist-packages (from anyio<5.0,>=3.0->gradio) (1.3.1)\n",
            "Collecting build>=1.0.3 (from chromadb!=0.5.10,!=0.5.11,!=0.5.12,!=0.5.4,!=0.5.5,!=0.5.7,!=0.5.9,<0.6.0,>=0.4.0->langchain-chroma)\n",
            "  Downloading build-1.2.2.post1-py3-none-any.whl.metadata (6.5 kB)\n",
            "Collecting chroma-hnswlib==0.7.6 (from chromadb!=0.5.10,!=0.5.11,!=0.5.12,!=0.5.4,!=0.5.5,!=0.5.7,!=0.5.9,<0.6.0,>=0.4.0->langchain-chroma)\n",
            "  Downloading chroma_hnswlib-0.7.6-cp311-cp311-manylinux_2_17_x86_64.manylinux2014_x86_64.whl.metadata (252 bytes)\n",
            "Collecting posthog>=2.4.0 (from chromadb!=0.5.10,!=0.5.11,!=0.5.12,!=0.5.4,!=0.5.5,!=0.5.7,!=0.5.9,<0.6.0,>=0.4.0->langchain-chroma)\n",
            "  Downloading posthog-3.8.4-py2.py3-none-any.whl.metadata (2.8 kB)\n",
            "Collecting onnxruntime>=1.14.1 (from chromadb!=0.5.10,!=0.5.11,!=0.5.12,!=0.5.4,!=0.5.5,!=0.5.7,!=0.5.9,<0.6.0,>=0.4.0->langchain-chroma)\n",
            "  Downloading onnxruntime-1.20.1-cp311-cp311-manylinux_2_27_x86_64.manylinux_2_28_x86_64.whl.metadata (4.5 kB)\n",
            "Requirement already satisfied: opentelemetry-api>=1.2.0 in /usr/local/lib/python3.11/dist-packages (from chromadb!=0.5.10,!=0.5.11,!=0.5.12,!=0.5.4,!=0.5.5,!=0.5.7,!=0.5.9,<0.6.0,>=0.4.0->langchain-chroma) (1.29.0)\n",
            "Collecting opentelemetry-exporter-otlp-proto-grpc>=1.2.0 (from chromadb!=0.5.10,!=0.5.11,!=0.5.12,!=0.5.4,!=0.5.5,!=0.5.7,!=0.5.9,<0.6.0,>=0.4.0->langchain-chroma)\n",
            "  Downloading opentelemetry_exporter_otlp_proto_grpc-1.29.0-py3-none-any.whl.metadata (2.2 kB)\n",
            "Collecting opentelemetry-instrumentation-fastapi>=0.41b0 (from chromadb!=0.5.10,!=0.5.11,!=0.5.12,!=0.5.4,!=0.5.5,!=0.5.7,!=0.5.9,<0.6.0,>=0.4.0->langchain-chroma)\n",
            "  Downloading opentelemetry_instrumentation_fastapi-0.50b0-py3-none-any.whl.metadata (2.1 kB)\n",
            "Requirement already satisfied: opentelemetry-sdk>=1.2.0 in /usr/local/lib/python3.11/dist-packages (from chromadb!=0.5.10,!=0.5.11,!=0.5.12,!=0.5.4,!=0.5.5,!=0.5.7,!=0.5.9,<0.6.0,>=0.4.0->langchain-chroma) (1.29.0)\n",
            "Collecting tokenizers<=0.20.3,>=0.13.2 (from chromadb!=0.5.10,!=0.5.11,!=0.5.12,!=0.5.4,!=0.5.5,!=0.5.7,!=0.5.9,<0.6.0,>=0.4.0->langchain-chroma)\n",
            "  Downloading tokenizers-0.20.3-cp311-cp311-manylinux_2_17_x86_64.manylinux2014_x86_64.whl.metadata (6.7 kB)\n",
            "Collecting pypika>=0.48.9 (from chromadb!=0.5.10,!=0.5.11,!=0.5.12,!=0.5.4,!=0.5.5,!=0.5.7,!=0.5.9,<0.6.0,>=0.4.0->langchain-chroma)\n",
            "  Downloading PyPika-0.48.9.tar.gz (67 kB)\n",
            "\u001b[2K     \u001b[90m━━━━━━━━━━━━━━━━━━━━━━━━━━━━━━━━━━━━━━━━\u001b[0m \u001b[32m67.3/67.3 kB\u001b[0m \u001b[31m2.4 MB/s\u001b[0m eta \u001b[36m0:00:00\u001b[0m\n",
            "\u001b[?25h  Installing build dependencies ... \u001b[?25l\u001b[?25hdone\n",
            "  Getting requirements to build wheel ... \u001b[?25l\u001b[?25hdone\n",
            "  Preparing metadata (pyproject.toml) ... \u001b[?25l\u001b[?25hdone\n",
            "Requirement already satisfied: tqdm>=4.65.0 in /usr/local/lib/python3.11/dist-packages (from chromadb!=0.5.10,!=0.5.11,!=0.5.12,!=0.5.4,!=0.5.5,!=0.5.7,!=0.5.9,<0.6.0,>=0.4.0->langchain-chroma) (4.67.1)\n",
            "Collecting overrides>=7.3.1 (from chromadb!=0.5.10,!=0.5.11,!=0.5.12,!=0.5.4,!=0.5.5,!=0.5.7,!=0.5.9,<0.6.0,>=0.4.0->langchain-chroma)\n",
            "  Downloading overrides-7.7.0-py3-none-any.whl.metadata (5.8 kB)\n",
            "Requirement already satisfied: importlib-resources in /usr/local/lib/python3.11/dist-packages (from chromadb!=0.5.10,!=0.5.11,!=0.5.12,!=0.5.4,!=0.5.5,!=0.5.7,!=0.5.9,<0.6.0,>=0.4.0->langchain-chroma) (6.5.2)\n",
            "Requirement already satisfied: grpcio>=1.58.0 in /usr/local/lib/python3.11/dist-packages (from chromadb!=0.5.10,!=0.5.11,!=0.5.12,!=0.5.4,!=0.5.5,!=0.5.7,!=0.5.9,<0.6.0,>=0.4.0->langchain-chroma) (1.69.0)\n",
            "Collecting bcrypt>=4.0.1 (from chromadb!=0.5.10,!=0.5.11,!=0.5.12,!=0.5.4,!=0.5.5,!=0.5.7,!=0.5.9,<0.6.0,>=0.4.0->langchain-chroma)\n",
            "  Downloading bcrypt-4.2.1-cp39-abi3-manylinux_2_28_x86_64.whl.metadata (9.8 kB)\n",
            "Collecting kubernetes>=28.1.0 (from chromadb!=0.5.10,!=0.5.11,!=0.5.12,!=0.5.4,!=0.5.5,!=0.5.7,!=0.5.9,<0.6.0,>=0.4.0->langchain-chroma)\n",
            "  Downloading kubernetes-31.0.0-py2.py3-none-any.whl.metadata (1.5 kB)\n",
            "Collecting mmh3>=4.0.1 (from chromadb!=0.5.10,!=0.5.11,!=0.5.12,!=0.5.4,!=0.5.5,!=0.5.7,!=0.5.9,<0.6.0,>=0.4.0->langchain-chroma)\n",
            "  Downloading mmh3-5.0.1-cp311-cp311-manylinux_2_5_x86_64.manylinux1_x86_64.manylinux_2_17_x86_64.manylinux2014_x86_64.whl.metadata (14 kB)\n",
            "Requirement already satisfied: rich>=10.11.0 in /usr/local/lib/python3.11/dist-packages (from chromadb!=0.5.10,!=0.5.11,!=0.5.12,!=0.5.4,!=0.5.5,!=0.5.7,!=0.5.9,<0.6.0,>=0.4.0->langchain-chroma) (13.9.4)\n",
            "Collecting marshmallow<4.0.0,>=3.18.0 (from dataclasses-json<0.7,>=0.5.7->langchain-community)\n",
            "  Downloading marshmallow-3.25.1-py3-none-any.whl.metadata (7.3 kB)\n",
            "Collecting typing-inspect<1,>=0.4.0 (from dataclasses-json<0.7,>=0.5.7->langchain-community)\n",
            "  Downloading typing_inspect-0.9.0-py3-none-any.whl.metadata (1.5 kB)\n",
            "Collecting starlette<1.0,>=0.40.0 (from gradio)\n",
            "  Downloading starlette-0.41.3-py3-none-any.whl.metadata (6.0 kB)\n",
            "Requirement already satisfied: certifi in /usr/local/lib/python3.11/dist-packages (from httpx>=0.24.1->gradio) (2024.12.14)\n",
            "Requirement already satisfied: httpcore==1.* in /usr/local/lib/python3.11/dist-packages (from httpx>=0.24.1->gradio) (1.0.7)\n",
            "Requirement already satisfied: h11<0.15,>=0.13 in /usr/local/lib/python3.11/dist-packages (from httpcore==1.*->httpx>=0.24.1->gradio) (0.14.0)\n",
            "Requirement already satisfied: filelock in /usr/local/lib/python3.11/dist-packages (from huggingface-hub>=0.25.1->gradio) (3.16.1)\n",
            "Requirement already satisfied: langchain-text-splitters<0.4.0,>=0.3.3 in /usr/local/lib/python3.11/dist-packages (from langchain<0.4.0,>=0.3.15->langchain-community) (0.3.5)\n",
            "Requirement already satisfied: jsonpatch<2.0,>=1.33 in /usr/local/lib/python3.11/dist-packages (from langchain-core<0.4.0,>=0.3.31->langchain-community) (1.33)\n",
            "Requirement already satisfied: requests-toolbelt<2.0.0,>=1.0.0 in /usr/local/lib/python3.11/dist-packages (from langsmith<0.4,>=0.1.125->langchain-community) (1.0.0)\n",
            "Requirement already satisfied: distro<2,>=1.7.0 in /usr/local/lib/python3.11/dist-packages (from openai<2.0.0,>=1.58.1->langchain-openai) (1.9.0)\n",
            "Requirement already satisfied: jiter<1,>=0.4.0 in /usr/local/lib/python3.11/dist-packages (from openai<2.0.0,>=1.58.1->langchain-openai) (0.8.2)\n",
            "Requirement already satisfied: python-dateutil>=2.8.2 in /usr/local/lib/python3.11/dist-packages (from pandas<3.0,>=1.0->gradio) (2.8.2)\n",
            "Requirement already satisfied: pytz>=2020.1 in /usr/local/lib/python3.11/dist-packages (from pandas<3.0,>=1.0->gradio) (2024.2)\n",
            "Requirement already satisfied: tzdata>=2022.7 in /usr/local/lib/python3.11/dist-packages (from pandas<3.0,>=1.0->gradio) (2024.2)\n",
            "Requirement already satisfied: annotated-types>=0.6.0 in /usr/local/lib/python3.11/dist-packages (from pydantic>=2.0->gradio) (0.7.0)\n",
            "Requirement already satisfied: pydantic-core==2.27.2 in /usr/local/lib/python3.11/dist-packages (from pydantic>=2.0->gradio) (2.27.2)\n",
            "Collecting python-dotenv>=0.21.0 (from pydantic-settings<3.0.0,>=2.4.0->langchain-community)\n",
            "  Downloading python_dotenv-1.0.1-py3-none-any.whl.metadata (23 kB)\n",
            "Requirement already satisfied: charset-normalizer<4,>=2 in /usr/local/lib/python3.11/dist-packages (from requests<3,>=2->langchain-community) (3.4.1)\n",
            "Requirement already satisfied: urllib3<3,>=1.21.1 in /usr/local/lib/python3.11/dist-packages (from requests<3,>=2->langchain-community) (2.3.0)\n",
            "Requirement already satisfied: greenlet!=0.4.17 in /usr/local/lib/python3.11/dist-packages (from SQLAlchemy<3,>=1.4->langchain-community) (3.1.1)\n",
            "Requirement already satisfied: regex>=2022.1.18 in /usr/local/lib/python3.11/dist-packages (from tiktoken<1,>=0.7->langchain-openai) (2024.11.6)\n",
            "Requirement already satisfied: click>=8.0.0 in /usr/local/lib/python3.11/dist-packages (from typer<1.0,>=0.12->gradio) (8.1.8)\n",
            "Requirement already satisfied: shellingham>=1.3.0 in /usr/local/lib/python3.11/dist-packages (from typer<1.0,>=0.12->gradio) (1.5.4)\n",
            "Collecting pyproject_hooks (from build>=1.0.3->chromadb!=0.5.10,!=0.5.11,!=0.5.12,!=0.5.4,!=0.5.5,!=0.5.7,!=0.5.9,<0.6.0,>=0.4.0->langchain-chroma)\n",
            "  Downloading pyproject_hooks-1.2.0-py3-none-any.whl.metadata (1.3 kB)\n",
            "Requirement already satisfied: jsonpointer>=1.9 in /usr/local/lib/python3.11/dist-packages (from jsonpatch<2.0,>=1.33->langchain-core<0.4.0,>=0.3.31->langchain-community) (3.0.0)\n",
            "Requirement already satisfied: six>=1.9.0 in /usr/local/lib/python3.11/dist-packages (from kubernetes>=28.1.0->chromadb!=0.5.10,!=0.5.11,!=0.5.12,!=0.5.4,!=0.5.5,!=0.5.7,!=0.5.9,<0.6.0,>=0.4.0->langchain-chroma) (1.17.0)\n",
            "Requirement already satisfied: google-auth>=1.0.1 in /usr/local/lib/python3.11/dist-packages (from kubernetes>=28.1.0->chromadb!=0.5.10,!=0.5.11,!=0.5.12,!=0.5.4,!=0.5.5,!=0.5.7,!=0.5.9,<0.6.0,>=0.4.0->langchain-chroma) (2.27.0)\n",
            "Requirement already satisfied: websocket-client!=0.40.0,!=0.41.*,!=0.42.*,>=0.32.0 in /usr/local/lib/python3.11/dist-packages (from kubernetes>=28.1.0->chromadb!=0.5.10,!=0.5.11,!=0.5.12,!=0.5.4,!=0.5.5,!=0.5.7,!=0.5.9,<0.6.0,>=0.4.0->langchain-chroma) (1.8.0)\n",
            "Requirement already satisfied: requests-oauthlib in /usr/local/lib/python3.11/dist-packages (from kubernetes>=28.1.0->chromadb!=0.5.10,!=0.5.11,!=0.5.12,!=0.5.4,!=0.5.5,!=0.5.7,!=0.5.9,<0.6.0,>=0.4.0->langchain-chroma) (1.3.1)\n",
            "Requirement already satisfied: oauthlib>=3.2.2 in /usr/local/lib/python3.11/dist-packages (from kubernetes>=28.1.0->chromadb!=0.5.10,!=0.5.11,!=0.5.12,!=0.5.4,!=0.5.5,!=0.5.7,!=0.5.9,<0.6.0,>=0.4.0->langchain-chroma) (3.2.2)\n",
            "Collecting durationpy>=0.7 (from kubernetes>=28.1.0->chromadb!=0.5.10,!=0.5.11,!=0.5.12,!=0.5.4,!=0.5.5,!=0.5.7,!=0.5.9,<0.6.0,>=0.4.0->langchain-chroma)\n",
            "  Downloading durationpy-0.9-py3-none-any.whl.metadata (338 bytes)\n",
            "Collecting coloredlogs (from onnxruntime>=1.14.1->chromadb!=0.5.10,!=0.5.11,!=0.5.12,!=0.5.4,!=0.5.5,!=0.5.7,!=0.5.9,<0.6.0,>=0.4.0->langchain-chroma)\n",
            "  Downloading coloredlogs-15.0.1-py2.py3-none-any.whl.metadata (12 kB)\n",
            "Requirement already satisfied: flatbuffers in /usr/local/lib/python3.11/dist-packages (from onnxruntime>=1.14.1->chromadb!=0.5.10,!=0.5.11,!=0.5.12,!=0.5.4,!=0.5.5,!=0.5.7,!=0.5.9,<0.6.0,>=0.4.0->langchain-chroma) (24.12.23)\n",
            "Requirement already satisfied: protobuf in /usr/local/lib/python3.11/dist-packages (from onnxruntime>=1.14.1->chromadb!=0.5.10,!=0.5.11,!=0.5.12,!=0.5.4,!=0.5.5,!=0.5.7,!=0.5.9,<0.6.0,>=0.4.0->langchain-chroma) (4.25.5)\n",
            "Requirement already satisfied: sympy in /usr/local/lib/python3.11/dist-packages (from onnxruntime>=1.14.1->chromadb!=0.5.10,!=0.5.11,!=0.5.12,!=0.5.4,!=0.5.5,!=0.5.7,!=0.5.9,<0.6.0,>=0.4.0->langchain-chroma) (1.13.1)\n",
            "Requirement already satisfied: deprecated>=1.2.6 in /usr/local/lib/python3.11/dist-packages (from opentelemetry-api>=1.2.0->chromadb!=0.5.10,!=0.5.11,!=0.5.12,!=0.5.4,!=0.5.5,!=0.5.7,!=0.5.9,<0.6.0,>=0.4.0->langchain-chroma) (1.2.15)\n",
            "Requirement already satisfied: importlib-metadata<=8.5.0,>=6.0 in /usr/local/lib/python3.11/dist-packages (from opentelemetry-api>=1.2.0->chromadb!=0.5.10,!=0.5.11,!=0.5.12,!=0.5.4,!=0.5.5,!=0.5.7,!=0.5.9,<0.6.0,>=0.4.0->langchain-chroma) (8.5.0)\n",
            "Requirement already satisfied: googleapis-common-protos~=1.52 in /usr/local/lib/python3.11/dist-packages (from opentelemetry-exporter-otlp-proto-grpc>=1.2.0->chromadb!=0.5.10,!=0.5.11,!=0.5.12,!=0.5.4,!=0.5.5,!=0.5.7,!=0.5.9,<0.6.0,>=0.4.0->langchain-chroma) (1.66.0)\n",
            "Collecting opentelemetry-exporter-otlp-proto-common==1.29.0 (from opentelemetry-exporter-otlp-proto-grpc>=1.2.0->chromadb!=0.5.10,!=0.5.11,!=0.5.12,!=0.5.4,!=0.5.5,!=0.5.7,!=0.5.9,<0.6.0,>=0.4.0->langchain-chroma)\n",
            "  Downloading opentelemetry_exporter_otlp_proto_common-1.29.0-py3-none-any.whl.metadata (1.8 kB)\n",
            "Collecting opentelemetry-proto==1.29.0 (from opentelemetry-exporter-otlp-proto-grpc>=1.2.0->chromadb!=0.5.10,!=0.5.11,!=0.5.12,!=0.5.4,!=0.5.5,!=0.5.7,!=0.5.9,<0.6.0,>=0.4.0->langchain-chroma)\n",
            "  Downloading opentelemetry_proto-1.29.0-py3-none-any.whl.metadata (2.3 kB)\n",
            "Collecting protobuf (from onnxruntime>=1.14.1->chromadb!=0.5.10,!=0.5.11,!=0.5.12,!=0.5.4,!=0.5.5,!=0.5.7,!=0.5.9,<0.6.0,>=0.4.0->langchain-chroma)\n",
            "  Downloading protobuf-5.29.3-cp38-abi3-manylinux2014_x86_64.whl.metadata (592 bytes)\n",
            "Collecting opentelemetry-instrumentation-asgi==0.50b0 (from opentelemetry-instrumentation-fastapi>=0.41b0->chromadb!=0.5.10,!=0.5.11,!=0.5.12,!=0.5.4,!=0.5.5,!=0.5.7,!=0.5.9,<0.6.0,>=0.4.0->langchain-chroma)\n",
            "  Downloading opentelemetry_instrumentation_asgi-0.50b0-py3-none-any.whl.metadata (1.9 kB)\n",
            "Collecting opentelemetry-instrumentation==0.50b0 (from opentelemetry-instrumentation-fastapi>=0.41b0->chromadb!=0.5.10,!=0.5.11,!=0.5.12,!=0.5.4,!=0.5.5,!=0.5.7,!=0.5.9,<0.6.0,>=0.4.0->langchain-chroma)\n",
            "  Downloading opentelemetry_instrumentation-0.50b0-py3-none-any.whl.metadata (6.1 kB)\n",
            "Requirement already satisfied: opentelemetry-semantic-conventions==0.50b0 in /usr/local/lib/python3.11/dist-packages (from opentelemetry-instrumentation-fastapi>=0.41b0->chromadb!=0.5.10,!=0.5.11,!=0.5.12,!=0.5.4,!=0.5.5,!=0.5.7,!=0.5.9,<0.6.0,>=0.4.0->langchain-chroma) (0.50b0)\n",
            "Collecting opentelemetry-util-http==0.50b0 (from opentelemetry-instrumentation-fastapi>=0.41b0->chromadb!=0.5.10,!=0.5.11,!=0.5.12,!=0.5.4,!=0.5.5,!=0.5.7,!=0.5.9,<0.6.0,>=0.4.0->langchain-chroma)\n",
            "  Downloading opentelemetry_util_http-0.50b0-py3-none-any.whl.metadata (2.5 kB)\n",
            "Requirement already satisfied: wrapt<2.0.0,>=1.0.0 in /usr/local/lib/python3.11/dist-packages (from opentelemetry-instrumentation==0.50b0->opentelemetry-instrumentation-fastapi>=0.41b0->chromadb!=0.5.10,!=0.5.11,!=0.5.12,!=0.5.4,!=0.5.5,!=0.5.7,!=0.5.9,<0.6.0,>=0.4.0->langchain-chroma) (1.17.0)\n",
            "Collecting asgiref~=3.0 (from opentelemetry-instrumentation-asgi==0.50b0->opentelemetry-instrumentation-fastapi>=0.41b0->chromadb!=0.5.10,!=0.5.11,!=0.5.12,!=0.5.4,!=0.5.5,!=0.5.7,!=0.5.9,<0.6.0,>=0.4.0->langchain-chroma)\n",
            "  Downloading asgiref-3.8.1-py3-none-any.whl.metadata (9.3 kB)\n",
            "Collecting monotonic>=1.5 (from posthog>=2.4.0->chromadb!=0.5.10,!=0.5.11,!=0.5.12,!=0.5.4,!=0.5.5,!=0.5.7,!=0.5.9,<0.6.0,>=0.4.0->langchain-chroma)\n",
            "  Downloading monotonic-1.6-py2.py3-none-any.whl.metadata (1.5 kB)\n",
            "Collecting backoff>=1.10.0 (from posthog>=2.4.0->chromadb!=0.5.10,!=0.5.11,!=0.5.12,!=0.5.4,!=0.5.5,!=0.5.7,!=0.5.9,<0.6.0,>=0.4.0->langchain-chroma)\n",
            "  Downloading backoff-2.2.1-py3-none-any.whl.metadata (14 kB)\n",
            "Requirement already satisfied: markdown-it-py>=2.2.0 in /usr/local/lib/python3.11/dist-packages (from rich>=10.11.0->chromadb!=0.5.10,!=0.5.11,!=0.5.12,!=0.5.4,!=0.5.5,!=0.5.7,!=0.5.9,<0.6.0,>=0.4.0->langchain-chroma) (3.0.0)\n",
            "Requirement already satisfied: pygments<3.0.0,>=2.13.0 in /usr/local/lib/python3.11/dist-packages (from rich>=10.11.0->chromadb!=0.5.10,!=0.5.11,!=0.5.12,!=0.5.4,!=0.5.5,!=0.5.7,!=0.5.9,<0.6.0,>=0.4.0->langchain-chroma) (2.18.0)\n",
            "Collecting mypy-extensions>=0.3.0 (from typing-inspect<1,>=0.4.0->dataclasses-json<0.7,>=0.5.7->langchain-community)\n",
            "  Downloading mypy_extensions-1.0.0-py3-none-any.whl.metadata (1.1 kB)\n",
            "Collecting httptools>=0.6.3 (from uvicorn[standard]>=0.18.3->chromadb!=0.5.10,!=0.5.11,!=0.5.12,!=0.5.4,!=0.5.5,!=0.5.7,!=0.5.9,<0.6.0,>=0.4.0->langchain-chroma)\n",
            "  Downloading httptools-0.6.4-cp311-cp311-manylinux_2_5_x86_64.manylinux1_x86_64.manylinux_2_17_x86_64.manylinux2014_x86_64.whl.metadata (3.6 kB)\n",
            "Collecting uvloop!=0.15.0,!=0.15.1,>=0.14.0 (from uvicorn[standard]>=0.18.3->chromadb!=0.5.10,!=0.5.11,!=0.5.12,!=0.5.4,!=0.5.5,!=0.5.7,!=0.5.9,<0.6.0,>=0.4.0->langchain-chroma)\n",
            "  Downloading uvloop-0.21.0-cp311-cp311-manylinux_2_17_x86_64.manylinux2014_x86_64.whl.metadata (4.9 kB)\n",
            "Collecting watchfiles>=0.13 (from uvicorn[standard]>=0.18.3->chromadb!=0.5.10,!=0.5.11,!=0.5.12,!=0.5.4,!=0.5.5,!=0.5.7,!=0.5.9,<0.6.0,>=0.4.0->langchain-chroma)\n",
            "  Downloading watchfiles-1.0.4-cp311-cp311-manylinux_2_17_x86_64.manylinux2014_x86_64.whl.metadata (4.9 kB)\n",
            "Requirement already satisfied: cachetools<6.0,>=2.0.0 in /usr/local/lib/python3.11/dist-packages (from google-auth>=1.0.1->kubernetes>=28.1.0->chromadb!=0.5.10,!=0.5.11,!=0.5.12,!=0.5.4,!=0.5.5,!=0.5.7,!=0.5.9,<0.6.0,>=0.4.0->langchain-chroma) (5.5.0)\n",
            "Requirement already satisfied: pyasn1-modules>=0.2.1 in /usr/local/lib/python3.11/dist-packages (from google-auth>=1.0.1->kubernetes>=28.1.0->chromadb!=0.5.10,!=0.5.11,!=0.5.12,!=0.5.4,!=0.5.5,!=0.5.7,!=0.5.9,<0.6.0,>=0.4.0->langchain-chroma) (0.4.1)\n",
            "Requirement already satisfied: rsa<5,>=3.1.4 in /usr/local/lib/python3.11/dist-packages (from google-auth>=1.0.1->kubernetes>=28.1.0->chromadb!=0.5.10,!=0.5.11,!=0.5.12,!=0.5.4,!=0.5.5,!=0.5.7,!=0.5.9,<0.6.0,>=0.4.0->langchain-chroma) (4.9)\n",
            "Requirement already satisfied: zipp>=3.20 in /usr/local/lib/python3.11/dist-packages (from importlib-metadata<=8.5.0,>=6.0->opentelemetry-api>=1.2.0->chromadb!=0.5.10,!=0.5.11,!=0.5.12,!=0.5.4,!=0.5.5,!=0.5.7,!=0.5.9,<0.6.0,>=0.4.0->langchain-chroma) (3.21.0)\n",
            "Requirement already satisfied: mdurl~=0.1 in /usr/local/lib/python3.11/dist-packages (from markdown-it-py>=2.2.0->rich>=10.11.0->chromadb!=0.5.10,!=0.5.11,!=0.5.12,!=0.5.4,!=0.5.5,!=0.5.7,!=0.5.9,<0.6.0,>=0.4.0->langchain-chroma) (0.1.2)\n",
            "Collecting humanfriendly>=9.1 (from coloredlogs->onnxruntime>=1.14.1->chromadb!=0.5.10,!=0.5.11,!=0.5.12,!=0.5.4,!=0.5.5,!=0.5.7,!=0.5.9,<0.6.0,>=0.4.0->langchain-chroma)\n",
            "  Downloading humanfriendly-10.0-py2.py3-none-any.whl.metadata (9.2 kB)\n",
            "Requirement already satisfied: mpmath<1.4,>=1.1.0 in /usr/local/lib/python3.11/dist-packages (from sympy->onnxruntime>=1.14.1->chromadb!=0.5.10,!=0.5.11,!=0.5.12,!=0.5.4,!=0.5.5,!=0.5.7,!=0.5.9,<0.6.0,>=0.4.0->langchain-chroma) (1.3.0)\n",
            "Requirement already satisfied: pyasn1<0.7.0,>=0.4.6 in /usr/local/lib/python3.11/dist-packages (from pyasn1-modules>=0.2.1->google-auth>=1.0.1->kubernetes>=28.1.0->chromadb!=0.5.10,!=0.5.11,!=0.5.12,!=0.5.4,!=0.5.5,!=0.5.7,!=0.5.9,<0.6.0,>=0.4.0->langchain-chroma) (0.6.1)\n",
            "Downloading gradio-5.12.0-py3-none-any.whl (57.6 MB)\n",
            "\u001b[2K   \u001b[90m━━━━━━━━━━━━━━━━━━━━━━━━━━━━━━━━━━━━━━━━\u001b[0m \u001b[32m57.6/57.6 MB\u001b[0m \u001b[31m11.4 MB/s\u001b[0m eta \u001b[36m0:00:00\u001b[0m\n",
            "\u001b[?25hDownloading gradio_client-1.5.4-py3-none-any.whl (321 kB)\n",
            "\u001b[2K   \u001b[90m━━━━━━━━━━━━━━━━━━━━━━━━━━━━━━━━━━━━━━━━\u001b[0m \u001b[32m321.4/321.4 kB\u001b[0m \u001b[31m18.0 MB/s\u001b[0m eta \u001b[36m0:00:00\u001b[0m\n",
            "\u001b[?25hDownloading langchain_community-0.3.15-py3-none-any.whl (2.5 MB)\n",
            "\u001b[2K   \u001b[90m━━━━━━━━━━━━━━━━━━━━━━━━━━━━━━━━━━━━━━━━\u001b[0m \u001b[32m2.5/2.5 MB\u001b[0m \u001b[31m68.1 MB/s\u001b[0m eta \u001b[36m0:00:00\u001b[0m\n",
            "\u001b[?25hDownloading langchain_openai-0.3.1-py3-none-any.whl (54 kB)\n",
            "\u001b[2K   \u001b[90m━━━━━━━━━━━━━━━━━━━━━━━━━━━━━━━━━━━━━━━━\u001b[0m \u001b[32m54.3/54.3 kB\u001b[0m \u001b[31m3.7 MB/s\u001b[0m eta \u001b[36m0:00:00\u001b[0m\n",
            "\u001b[?25hDownloading langchain_chroma-0.2.0-py3-none-any.whl (11 kB)\n",
            "Downloading aiofiles-23.2.1-py3-none-any.whl (15 kB)\n",
            "Downloading chromadb-0.5.23-py3-none-any.whl (628 kB)\n",
            "\u001b[2K   \u001b[90m━━━━━━━━━━━━━━━━━━━━━━━━━━━━━━━━━━━━━━━━\u001b[0m \u001b[32m628.3/628.3 kB\u001b[0m \u001b[31m36.9 MB/s\u001b[0m eta \u001b[36m0:00:00\u001b[0m\n",
            "\u001b[?25hDownloading chroma_hnswlib-0.7.6-cp311-cp311-manylinux_2_17_x86_64.manylinux2014_x86_64.whl (2.4 MB)\n",
            "\u001b[2K   \u001b[90m━━━━━━━━━━━━━━━━━━━━━━━━━━━━━━━━━━━━━━━━\u001b[0m \u001b[32m2.4/2.4 MB\u001b[0m \u001b[31m63.1 MB/s\u001b[0m eta \u001b[36m0:00:00\u001b[0m\n",
            "\u001b[?25hDownloading dataclasses_json-0.6.7-py3-none-any.whl (28 kB)\n",
            "Downloading fastapi-0.115.6-py3-none-any.whl (94 kB)\n",
            "\u001b[2K   \u001b[90m━━━━━━━━━━━━━━━━━━━━━━━━━━━━━━━━━━━━━━━━\u001b[0m \u001b[32m94.8/94.8 kB\u001b[0m \u001b[31m7.1 MB/s\u001b[0m eta \u001b[36m0:00:00\u001b[0m\n",
            "\u001b[?25hDownloading httpx_sse-0.4.0-py3-none-any.whl (7.8 kB)\n",
            "Downloading langchain-0.3.15-py3-none-any.whl (1.0 MB)\n",
            "\u001b[2K   \u001b[90m━━━━━━━━━━━━━━━━━━━━━━━━━━━━━━━━━━━━━━━━\u001b[0m \u001b[32m1.0/1.0 MB\u001b[0m \u001b[31m48.5 MB/s\u001b[0m eta \u001b[36m0:00:00\u001b[0m\n",
            "\u001b[?25hDownloading langchain_core-0.3.31-py3-none-any.whl (412 kB)\n",
            "\u001b[2K   \u001b[90m━━━━━━━━━━━━━━━━━━━━━━━━━━━━━━━━━━━━━━━━\u001b[0m \u001b[32m412.2/412.2 kB\u001b[0m \u001b[31m26.0 MB/s\u001b[0m eta \u001b[36m0:00:00\u001b[0m\n",
            "\u001b[?25hDownloading MarkupSafe-2.1.5-cp311-cp311-manylinux_2_17_x86_64.manylinux2014_x86_64.whl (28 kB)\n",
            "Downloading pydantic_settings-2.7.1-py3-none-any.whl (29 kB)\n",
            "Downloading python_multipart-0.0.20-py3-none-any.whl (24 kB)\n",
            "Downloading ruff-0.9.2-py3-none-manylinux_2_17_x86_64.manylinux2014_x86_64.whl (12.4 MB)\n",
            "\u001b[2K   \u001b[90m━━━━━━━━━━━━━━━━━━━━━━━━━━━━━━━━━━━━━━━━\u001b[0m \u001b[32m12.4/12.4 MB\u001b[0m \u001b[31m90.3 MB/s\u001b[0m eta \u001b[36m0:00:00\u001b[0m\n",
            "\u001b[?25hDownloading safehttpx-0.1.6-py3-none-any.whl (8.7 kB)\n",
            "Downloading semantic_version-2.10.0-py2.py3-none-any.whl (15 kB)\n",
            "Downloading starlette-0.41.3-py3-none-any.whl (73 kB)\n",
            "\u001b[2K   \u001b[90m━━━━━━━━━━━━━━━━━━━━━━━━━━━━━━━━━━━━━━━━\u001b[0m \u001b[32m73.2/73.2 kB\u001b[0m \u001b[31m5.3 MB/s\u001b[0m eta \u001b[36m0:00:00\u001b[0m\n",
            "\u001b[?25hDownloading tiktoken-0.8.0-cp311-cp311-manylinux_2_17_x86_64.manylinux2014_x86_64.whl (1.2 MB)\n",
            "\u001b[2K   \u001b[90m━━━━━━━━━━━━━━━━━━━━━━━━━━━━━━━━━━━━━━━━\u001b[0m \u001b[32m1.2/1.2 MB\u001b[0m \u001b[31m41.1 MB/s\u001b[0m eta \u001b[36m0:00:00\u001b[0m\n",
            "\u001b[?25hDownloading tomlkit-0.13.2-py3-none-any.whl (37 kB)\n",
            "Downloading uvicorn-0.34.0-py3-none-any.whl (62 kB)\n",
            "\u001b[2K   \u001b[90m━━━━━━━━━━━━━━━━━━━━━━━━━━━━━━━━━━━━━━━━\u001b[0m \u001b[32m62.3/62.3 kB\u001b[0m \u001b[31m4.4 MB/s\u001b[0m eta \u001b[36m0:00:00\u001b[0m\n",
            "\u001b[?25hDownloading ffmpy-0.5.0-py3-none-any.whl (6.0 kB)\n",
            "Downloading pydub-0.25.1-py2.py3-none-any.whl (32 kB)\n",
            "Downloading bcrypt-4.2.1-cp39-abi3-manylinux_2_28_x86_64.whl (278 kB)\n",
            "\u001b[2K   \u001b[90m━━━━━━━━━━━━━━━━━━━━━━━━━━━━━━━━━━━━━━━━\u001b[0m \u001b[32m278.6/278.6 kB\u001b[0m \u001b[31m19.2 MB/s\u001b[0m eta \u001b[36m0:00:00\u001b[0m\n",
            "\u001b[?25hDownloading build-1.2.2.post1-py3-none-any.whl (22 kB)\n",
            "Downloading kubernetes-31.0.0-py2.py3-none-any.whl (1.9 MB)\n",
            "\u001b[2K   \u001b[90m━━━━━━━━━━━━━━━━━━━━━━━━━━━━━━━━━━━━━━━━\u001b[0m \u001b[32m1.9/1.9 MB\u001b[0m \u001b[31m60.6 MB/s\u001b[0m eta \u001b[36m0:00:00\u001b[0m\n",
            "\u001b[?25hDownloading marshmallow-3.25.1-py3-none-any.whl (49 kB)\n",
            "\u001b[2K   \u001b[90m━━━━━━━━━━━━━━━━━━━━━━━━━━━━━━━━━━━━━━━━\u001b[0m \u001b[32m49.6/49.6 kB\u001b[0m \u001b[31m3.4 MB/s\u001b[0m eta \u001b[36m0:00:00\u001b[0m\n",
            "\u001b[?25hDownloading mmh3-5.0.1-cp311-cp311-manylinux_2_5_x86_64.manylinux1_x86_64.manylinux_2_17_x86_64.manylinux2014_x86_64.whl (94 kB)\n",
            "\u001b[2K   \u001b[90m━━━━━━━━━━━━━━━━━━━━━━━━━━━━━━━━━━━━━━━━\u001b[0m \u001b[32m94.8/94.8 kB\u001b[0m \u001b[31m6.1 MB/s\u001b[0m eta \u001b[36m0:00:00\u001b[0m\n",
            "\u001b[?25hDownloading onnxruntime-1.20.1-cp311-cp311-manylinux_2_27_x86_64.manylinux_2_28_x86_64.whl (13.3 MB)\n",
            "\u001b[2K   \u001b[90m━━━━━━━━━━━━━━━━━━━━━━━━━━━━━━━━━━━━━━━━\u001b[0m \u001b[32m13.3/13.3 MB\u001b[0m \u001b[31m78.2 MB/s\u001b[0m eta \u001b[36m0:00:00\u001b[0m\n",
            "\u001b[?25hDownloading opentelemetry_exporter_otlp_proto_grpc-1.29.0-py3-none-any.whl (18 kB)\n",
            "Downloading opentelemetry_exporter_otlp_proto_common-1.29.0-py3-none-any.whl (18 kB)\n",
            "Downloading opentelemetry_proto-1.29.0-py3-none-any.whl (55 kB)\n",
            "\u001b[2K   \u001b[90m━━━━━━━━━━━━━━━━━━━━━━━━━━━━━━━━━━━━━━━━\u001b[0m \u001b[32m55.8/55.8 kB\u001b[0m \u001b[31m3.7 MB/s\u001b[0m eta \u001b[36m0:00:00\u001b[0m\n",
            "\u001b[?25hDownloading opentelemetry_instrumentation_fastapi-0.50b0-py3-none-any.whl (12 kB)\n",
            "Downloading opentelemetry_instrumentation-0.50b0-py3-none-any.whl (30 kB)\n",
            "Downloading opentelemetry_instrumentation_asgi-0.50b0-py3-none-any.whl (16 kB)\n",
            "Downloading opentelemetry_util_http-0.50b0-py3-none-any.whl (6.9 kB)\n",
            "Downloading overrides-7.7.0-py3-none-any.whl (17 kB)\n",
            "Downloading posthog-3.8.4-py2.py3-none-any.whl (69 kB)\n",
            "\u001b[2K   \u001b[90m━━━━━━━━━━━━━━━━━━━━━━━━━━━━━━━━━━━━━━━━\u001b[0m \u001b[32m69.8/69.8 kB\u001b[0m \u001b[31m5.1 MB/s\u001b[0m eta \u001b[36m0:00:00\u001b[0m\n",
            "\u001b[?25hDownloading python_dotenv-1.0.1-py3-none-any.whl (19 kB)\n",
            "Downloading tokenizers-0.20.3-cp311-cp311-manylinux_2_17_x86_64.manylinux2014_x86_64.whl (3.0 MB)\n",
            "\u001b[2K   \u001b[90m━━━━━━━━━━━━━━━━━━━━━━━━━━━━━━━━━━━━━━━━\u001b[0m \u001b[32m3.0/3.0 MB\u001b[0m \u001b[31m63.6 MB/s\u001b[0m eta \u001b[36m0:00:00\u001b[0m\n",
            "\u001b[?25hDownloading typing_inspect-0.9.0-py3-none-any.whl (8.8 kB)\n",
            "Downloading backoff-2.2.1-py3-none-any.whl (15 kB)\n",
            "Downloading durationpy-0.9-py3-none-any.whl (3.5 kB)\n",
            "Downloading httptools-0.6.4-cp311-cp311-manylinux_2_5_x86_64.manylinux1_x86_64.manylinux_2_17_x86_64.manylinux2014_x86_64.whl (459 kB)\n",
            "\u001b[2K   \u001b[90m━━━━━━━━━━━━━━━━━━━━━━━━━━━━━━━━━━━━━━━━\u001b[0m \u001b[32m459.8/459.8 kB\u001b[0m \u001b[31m23.5 MB/s\u001b[0m eta \u001b[36m0:00:00\u001b[0m\n",
            "\u001b[?25hDownloading monotonic-1.6-py2.py3-none-any.whl (8.2 kB)\n",
            "Downloading mypy_extensions-1.0.0-py3-none-any.whl (4.7 kB)\n",
            "Downloading protobuf-5.29.3-cp38-abi3-manylinux2014_x86_64.whl (319 kB)\n",
            "\u001b[2K   \u001b[90m━━━━━━━━━━━━━━━━━━━━━━━━━━━━━━━━━━━━━━━━\u001b[0m \u001b[32m319.7/319.7 kB\u001b[0m \u001b[31m16.6 MB/s\u001b[0m eta \u001b[36m0:00:00\u001b[0m\n",
            "\u001b[?25hDownloading uvloop-0.21.0-cp311-cp311-manylinux_2_17_x86_64.manylinux2014_x86_64.whl (4.0 MB)\n",
            "\u001b[2K   \u001b[90m━━━━━━━━━━━━━━━━━━━━━━━━━━━━━━━━━━━━━━━━\u001b[0m \u001b[32m4.0/4.0 MB\u001b[0m \u001b[31m71.2 MB/s\u001b[0m eta \u001b[36m0:00:00\u001b[0m\n",
            "\u001b[?25hDownloading watchfiles-1.0.4-cp311-cp311-manylinux_2_17_x86_64.manylinux2014_x86_64.whl (452 kB)\n",
            "\u001b[2K   \u001b[90m━━━━━━━━━━━━━━━━━━━━━━━━━━━━━━━━━━━━━━━━\u001b[0m \u001b[32m452.6/452.6 kB\u001b[0m \u001b[31m23.7 MB/s\u001b[0m eta \u001b[36m0:00:00\u001b[0m\n",
            "\u001b[?25hDownloading coloredlogs-15.0.1-py2.py3-none-any.whl (46 kB)\n",
            "\u001b[2K   \u001b[90m━━━━━━━━━━━━━━━━━━━━━━━━━━━━━━━━━━━━━━━━\u001b[0m \u001b[32m46.0/46.0 kB\u001b[0m \u001b[31m2.8 MB/s\u001b[0m eta \u001b[36m0:00:00\u001b[0m\n",
            "\u001b[?25hDownloading pyproject_hooks-1.2.0-py3-none-any.whl (10 kB)\n",
            "Downloading asgiref-3.8.1-py3-none-any.whl (23 kB)\n",
            "Downloading humanfriendly-10.0-py2.py3-none-any.whl (86 kB)\n",
            "\u001b[2K   \u001b[90m━━━━━━━━━━━━━━━━━━━━━━━━━━━━━━━━━━━━━━━━\u001b[0m \u001b[32m86.8/86.8 kB\u001b[0m \u001b[31m6.2 MB/s\u001b[0m eta \u001b[36m0:00:00\u001b[0m\n",
            "\u001b[?25hBuilding wheels for collected packages: pypika\n",
            "  Building wheel for pypika (pyproject.toml) ... \u001b[?25l\u001b[?25hdone\n",
            "  Created wheel for pypika: filename=PyPika-0.48.9-py2.py3-none-any.whl size=53771 sha256=7046fb1cfd18131538b932fdf1d3ed44e234a3362dd9b494df68255824342c37\n",
            "  Stored in directory: /root/.cache/pip/wheels/a3/01/bd/4c40ceb9d5354160cb186dcc153360f4ab7eb23e2b24daf96d\n",
            "Successfully built pypika\n",
            "Installing collected packages: pypika, pydub, monotonic, durationpy, uvloop, uvicorn, tomlkit, semantic-version, ruff, python-multipart, python-dotenv, pyproject_hooks, protobuf, overrides, opentelemetry-util-http, mypy-extensions, mmh3, marshmallow, markupsafe, humanfriendly, httpx-sse, httptools, ffmpy, chroma-hnswlib, bcrypt, backoff, asgiref, aiofiles, watchfiles, typing-inspect, tiktoken, starlette, posthog, opentelemetry-proto, coloredlogs, build, tokenizers, safehttpx, pydantic-settings, opentelemetry-exporter-otlp-proto-common, onnxruntime, kubernetes, gradio-client, fastapi, dataclasses-json, opentelemetry-instrumentation, langchain-core, gradio, opentelemetry-instrumentation-asgi, opentelemetry-exporter-otlp-proto-grpc, langchain-openai, opentelemetry-instrumentation-fastapi, langchain, langchain-community, chromadb, langchain-chroma\n",
            "  Attempting uninstall: protobuf\n",
            "    Found existing installation: protobuf 4.25.5\n",
            "    Uninstalling protobuf-4.25.5:\n",
            "      Successfully uninstalled protobuf-4.25.5\n",
            "  Attempting uninstall: markupsafe\n",
            "    Found existing installation: MarkupSafe 3.0.2\n",
            "    Uninstalling MarkupSafe-3.0.2:\n",
            "      Successfully uninstalled MarkupSafe-3.0.2\n",
            "  Attempting uninstall: tokenizers\n",
            "    Found existing installation: tokenizers 0.21.0\n",
            "    Uninstalling tokenizers-0.21.0:\n",
            "      Successfully uninstalled tokenizers-0.21.0\n",
            "  Attempting uninstall: langchain-core\n",
            "    Found existing installation: langchain-core 0.3.29\n",
            "    Uninstalling langchain-core-0.3.29:\n",
            "      Successfully uninstalled langchain-core-0.3.29\n",
            "  Attempting uninstall: langchain\n",
            "    Found existing installation: langchain 0.3.14\n",
            "    Uninstalling langchain-0.3.14:\n",
            "      Successfully uninstalled langchain-0.3.14\n",
            "\u001b[31mERROR: pip's dependency resolver does not currently take into account all the packages that are installed. This behaviour is the source of the following dependency conflicts.\n",
            "transformers 4.47.1 requires tokenizers<0.22,>=0.21, but you have tokenizers 0.20.3 which is incompatible.\n",
            "tensorflow 2.17.1 requires protobuf!=4.21.0,!=4.21.1,!=4.21.2,!=4.21.3,!=4.21.4,!=4.21.5,<5.0.0dev,>=3.20.3, but you have protobuf 5.29.3 which is incompatible.\u001b[0m\u001b[31m\n",
            "\u001b[0mSuccessfully installed aiofiles-23.2.1 asgiref-3.8.1 backoff-2.2.1 bcrypt-4.2.1 build-1.2.2.post1 chroma-hnswlib-0.7.6 chromadb-0.5.23 coloredlogs-15.0.1 dataclasses-json-0.6.7 durationpy-0.9 fastapi-0.115.6 ffmpy-0.5.0 gradio-5.12.0 gradio-client-1.5.4 httptools-0.6.4 httpx-sse-0.4.0 humanfriendly-10.0 kubernetes-31.0.0 langchain-0.3.15 langchain-chroma-0.2.0 langchain-community-0.3.15 langchain-core-0.3.31 langchain-openai-0.3.1 markupsafe-2.1.5 marshmallow-3.25.1 mmh3-5.0.1 monotonic-1.6 mypy-extensions-1.0.0 onnxruntime-1.20.1 opentelemetry-exporter-otlp-proto-common-1.29.0 opentelemetry-exporter-otlp-proto-grpc-1.29.0 opentelemetry-instrumentation-0.50b0 opentelemetry-instrumentation-asgi-0.50b0 opentelemetry-instrumentation-fastapi-0.50b0 opentelemetry-proto-1.29.0 opentelemetry-util-http-0.50b0 overrides-7.7.0 posthog-3.8.4 protobuf-5.29.3 pydantic-settings-2.7.1 pydub-0.25.1 pypika-0.48.9 pyproject_hooks-1.2.0 python-dotenv-1.0.1 python-multipart-0.0.20 ruff-0.9.2 safehttpx-0.1.6 semantic-version-2.10.0 starlette-0.41.3 tiktoken-0.8.0 tokenizers-0.20.3 tomlkit-0.13.2 typing-inspect-0.9.0 uvicorn-0.34.0 uvloop-0.21.0 watchfiles-1.0.4\n"
          ]
        }
      ],
      "source": [
        "# install libraries\n",
        "!pip install gradio langchain-community langchain-openai langchain-chroma"
      ]
    },
    {
      "cell_type": "code",
      "execution_count": 2,
      "metadata": {
        "id": "LU2pvV_ObOnW"
      },
      "outputs": [],
      "source": [
        "# imports libraries\n",
        "import os\n",
        "import requests\n",
        "import json\n",
        "from bs4 import BeautifulSoup\n",
        "from openai import OpenAI\n",
        "from google.colab import userdata\n",
        "from tqdm import tqdm\n",
        "from langchain.document_loaders import DirectoryLoader, TextLoader\n",
        "from langchain.text_splitter import CharacterTextSplitter\n",
        "from langchain.schema import Document\n",
        "from langchain_openai import OpenAIEmbeddings, ChatOpenAI\n",
        "from langchain_chroma import Chroma\n",
        "import matplotlib.pyplot as plt\n",
        "from sklearn.manifold import TSNE\n",
        "import numpy as np\n",
        "import plotly.graph_objects as go\n",
        "from langchain.memory import ConversationBufferMemory\n",
        "from langchain.chains import ConversationalRetrievalChain\n",
        "from langchain.embeddings import HuggingFaceEmbeddings\n",
        "import glob\n",
        "import gradio as gr"
      ]
    },
    {
      "cell_type": "code",
      "execution_count": 3,
      "metadata": {
        "id": "KG_1lGIkbaCE"
      },
      "outputs": [],
      "source": [
        "# get the API key from Google Colab's Secrets\n",
        "openai_api_key = userdata.get('OPENAI_API_KEY')\n",
        "openai = OpenAI(api_key=openai_api_key)\n",
        "\n",
        "# feel free to change it to other models\n",
        "MODEL = \"gpt-4o\""
      ]
    },
    {
      "cell_type": "code",
      "execution_count": 4,
      "metadata": {
        "id": "cOLZ8izMb405"
      },
      "outputs": [],
      "source": [
        "# defines HTTP headers to simulate a legitimate browser user-agent string\n",
        "headers = {\n",
        " \"User-Agent\": \"Mozilla/5.0 (Windows NT 10.0; Win64; x64) AppleWebKit/537.36 (KHTML, like Gecko) Chrome/117.0.0.0 Safari/537.36\"\n",
        "}\n",
        "\n",
        "class Website:\n",
        "    \"\"\"\n",
        "    a class to fetch and process content from a specified webpage URL.\n",
        "\n",
        "    url (str): the URL of the webpage.\n",
        "    body (bytes): raw HTML content of the webpage.\n",
        "    title (str): the title of the webpage, if available.\n",
        "    text (str): cleaned and visible text content of the webpage.\n",
        "    links (list): a list of relevant links filtered by specific criteria.\n",
        "    \"\"\"\n",
        "    def __init__(self, url):\n",
        "        \"\"\"\n",
        "        Initializes the Website instance, fetches the webpage content, and processes it.\n",
        "\n",
        "        url (str): The URL of the webpage to process.\n",
        "        \"\"\"\n",
        "        self.url = url\n",
        "        response = requests.get(url, headers=headers)\n",
        "\n",
        "        # store the raw HTML content of the response\n",
        "        self.body = response.content\n",
        "        soup = BeautifulSoup(self.body, 'html.parser')\n",
        "\n",
        "        # extract the webpage title or provide a default message if no title is found\n",
        "        self.title = soup.title.string if soup.title else \"No title found\"\n",
        "        if soup.body:\n",
        "            for irrelevant in soup.body([\"script\", \"style\", \"img\", \"input\"]):\n",
        "                irrelevant.decompose() # remove unnecessary tags\n",
        "            self.text = soup.body.get_text(separator=\"\\n\", strip=True)\n",
        "        else:\n",
        "            self.text = \"\"\n",
        "        links = [link.get('href') for link in soup.find_all('a')]\n",
        "\n",
        "        # filter out irrelevant links\n",
        "        self.links = [link for link in links if link]\n",
        "        self.links = [link for link in self.links if link.startswith(\"https://octopathtraveler.fandom.com/wiki/\")]\n",
        "\n",
        "    def get_links(self):\n",
        "        \"\"\"\n",
        "        Returns a set of unique links found on the webpage.\n",
        "\n",
        "        Returns:\n",
        "            set: A set of unique links.\n",
        "        \"\"\"\n",
        "        return set(self.links)\n",
        "\n",
        "    def get_contents(self):\n",
        "        \"\"\"\n",
        "        Returns the title and text content of the webpage.\n",
        "\n",
        "        Returns:\n",
        "            str: The title and text content of the webpage.\n",
        "        \"\"\"\n",
        "        return f\"Webpage Title:\\n{self.title}\\nWebpage Contents:\\n{self.text}\\n\\n\""
      ]
    },
    {
      "cell_type": "code",
      "execution_count": 5,
      "metadata": {
        "colab": {
          "base_uri": "https://localhost:8080/"
        },
        "id": "hnIW7fQXb7qC",
        "outputId": "80e8b876-87d5-4c60-a848-aba76a52b0c7"
      },
      "outputs": [
        {
          "data": {
            "text/plain": [
              "{'https://octopathtraveler.fandom.com/wiki/Accessories',\n",
              " 'https://octopathtraveler.fandom.com/wiki/Accessories_(Octopath_Traveler_II)',\n",
              " 'https://octopathtraveler.fandom.com/wiki/Agnea_Bristarni',\n",
              " 'https://octopathtraveler.fandom.com/wiki/Alfyn_Greengrass',\n",
              " 'https://octopathtraveler.fandom.com/wiki/Apothecary',\n",
              " 'https://octopathtraveler.fandom.com/wiki/Apothecary_(Octopath_Traveler_II)',\n",
              " 'https://octopathtraveler.fandom.com/wiki/Blog:Recent_posts',\n",
              " 'https://octopathtraveler.fandom.com/wiki/Body_Armor',\n",
              " 'https://octopathtraveler.fandom.com/wiki/Body_Armor_(Octopath_Traveler_II)',\n",
              " 'https://octopathtraveler.fandom.com/wiki/Brightlands',\n",
              " 'https://octopathtraveler.fandom.com/wiki/Castti_Florenz',\n",
              " 'https://octopathtraveler.fandom.com/wiki/Category:Bosses',\n",
              " 'https://octopathtraveler.fandom.com/wiki/Category:Champions_of_the_Continent_Boss_Minions',\n",
              " 'https://octopathtraveler.fandom.com/wiki/Category:Champions_of_the_Continent_Bosses',\n",
              " 'https://octopathtraveler.fandom.com/wiki/Category:Champions_of_the_Continent_Characters',\n",
              " 'https://octopathtraveler.fandom.com/wiki/Category:Champions_of_the_Continent_Dungeons',\n",
              " 'https://octopathtraveler.fandom.com/wiki/Category:Champions_of_the_Continent_Enemies',\n",
              " 'https://octopathtraveler.fandom.com/wiki/Category:Champions_of_the_Continent_Locations',\n",
              " 'https://octopathtraveler.fandom.com/wiki/Category:Champions_of_the_Continent_Towns',\n",
              " 'https://octopathtraveler.fandom.com/wiki/Category:Enemies',\n",
              " 'https://octopathtraveler.fandom.com/wiki/Category:Game_Mechanics',\n",
              " 'https://octopathtraveler.fandom.com/wiki/Category:Inventory',\n",
              " 'https://octopathtraveler.fandom.com/wiki/Category:Octopath_Traveler_II_Bosses',\n",
              " 'https://octopathtraveler.fandom.com/wiki/Category:Octopath_Traveler_II_Enemies',\n",
              " 'https://octopathtraveler.fandom.com/wiki/Category:Octopath_Traveler_II_Game_Mechanics',\n",
              " 'https://octopathtraveler.fandom.com/wiki/Category:Octopath_Traveler_II_Travelers',\n",
              " 'https://octopathtraveler.fandom.com/wiki/Category:Travelers',\n",
              " 'https://octopathtraveler.fandom.com/wiki/Champions',\n",
              " 'https://octopathtraveler.fandom.com/wiki/Cleric',\n",
              " 'https://octopathtraveler.fandom.com/wiki/Cleric_(Octopath_Traveler_II)',\n",
              " 'https://octopathtraveler.fandom.com/wiki/Cliftlands',\n",
              " 'https://octopathtraveler.fandom.com/wiki/Coastlands',\n",
              " 'https://octopathtraveler.fandom.com/wiki/Crestlands',\n",
              " 'https://octopathtraveler.fandom.com/wiki/Crossed_Paths',\n",
              " 'https://octopathtraveler.fandom.com/wiki/Cyrus_Albright',\n",
              " 'https://octopathtraveler.fandom.com/wiki/Dancer',\n",
              " 'https://octopathtraveler.fandom.com/wiki/Dancer_(Octopath_Traveler_II)',\n",
              " 'https://octopathtraveler.fandom.com/wiki/EX_Skills',\n",
              " 'https://octopathtraveler.fandom.com/wiki/Flatlands',\n",
              " 'https://octopathtraveler.fandom.com/wiki/Frostlands',\n",
              " 'https://octopathtraveler.fandom.com/wiki/Guilds',\n",
              " 'https://octopathtraveler.fandom.com/wiki/H%27aanit',\n",
              " 'https://octopathtraveler.fandom.com/wiki/Harborlands',\n",
              " 'https://octopathtraveler.fandom.com/wiki/Headgear',\n",
              " 'https://octopathtraveler.fandom.com/wiki/Headgear_(Octopath_Traveler_II)',\n",
              " 'https://octopathtraveler.fandom.com/wiki/Highlands',\n",
              " 'https://octopathtraveler.fandom.com/wiki/Hikari_Ku',\n",
              " 'https://octopathtraveler.fandom.com/wiki/Hinoeuma',\n",
              " 'https://octopathtraveler.fandom.com/wiki/Hunter',\n",
              " 'https://octopathtraveler.fandom.com/wiki/Hunter_(Octopath_Traveler_II)',\n",
              " 'https://octopathtraveler.fandom.com/wiki/Inventory',\n",
              " 'https://octopathtraveler.fandom.com/wiki/Items',\n",
              " 'https://octopathtraveler.fandom.com/wiki/Items_(Octopath_Traveler_II)',\n",
              " 'https://octopathtraveler.fandom.com/wiki/Jobs',\n",
              " 'https://octopathtraveler.fandom.com/wiki/Jobs_(Octopath_Traveler_II)',\n",
              " 'https://octopathtraveler.fandom.com/wiki/Knowledge',\n",
              " 'https://octopathtraveler.fandom.com/wiki/Knowledge_(Octopath_Traveler_II)',\n",
              " 'https://octopathtraveler.fandom.com/wiki/Latent_Powers',\n",
              " 'https://octopathtraveler.fandom.com/wiki/Leaflands',\n",
              " 'https://octopathtraveler.fandom.com/wiki/Materials',\n",
              " 'https://octopathtraveler.fandom.com/wiki/Materials_(Octopath_Traveler_II)',\n",
              " 'https://octopathtraveler.fandom.com/wiki/Meats',\n",
              " 'https://octopathtraveler.fandom.com/wiki/Merchant',\n",
              " 'https://octopathtraveler.fandom.com/wiki/Merchant_(Octopath_Traveler_II)',\n",
              " 'https://octopathtraveler.fandom.com/wiki/Monster_Roster',\n",
              " 'https://octopathtraveler.fandom.com/wiki/Ochette',\n",
              " 'https://octopathtraveler.fandom.com/wiki/Octopath_Traveler',\n",
              " 'https://octopathtraveler.fandom.com/wiki/Octopath_Traveler:_Champions_of_the_Continent',\n",
              " 'https://octopathtraveler.fandom.com/wiki/Octopath_Traveler_II',\n",
              " 'https://octopathtraveler.fandom.com/wiki/Octopath_Traveler_Wiki',\n",
              " 'https://octopathtraveler.fandom.com/wiki/Octopath_Traveler_Wiki:Guidelines',\n",
              " 'https://octopathtraveler.fandom.com/wiki/Olberic_Eisenberg',\n",
              " 'https://octopathtraveler.fandom.com/wiki/Ophilia_Clement',\n",
              " 'https://octopathtraveler.fandom.com/wiki/Orsterra',\n",
              " 'https://octopathtraveler.fandom.com/wiki/Osvald_V._Vanstein',\n",
              " 'https://octopathtraveler.fandom.com/wiki/Partitio_Yellowill',\n",
              " 'https://octopathtraveler.fandom.com/wiki/Path_Actions',\n",
              " 'https://octopathtraveler.fandom.com/wiki/Path_Actions_(Octopath_Traveler_II)',\n",
              " 'https://octopathtraveler.fandom.com/wiki/Primrose_Azelhart',\n",
              " 'https://octopathtraveler.fandom.com/wiki/Riverlands',\n",
              " 'https://octopathtraveler.fandom.com/wiki/Scholar',\n",
              " 'https://octopathtraveler.fandom.com/wiki/Scholar_(Octopath_Traveler_II)',\n",
              " 'https://octopathtraveler.fandom.com/wiki/Shields',\n",
              " 'https://octopathtraveler.fandom.com/wiki/Shields_(Octopath_Traveler_II)',\n",
              " 'https://octopathtraveler.fandom.com/wiki/Shrines',\n",
              " 'https://octopathtraveler.fandom.com/wiki/Side_Stories',\n",
              " 'https://octopathtraveler.fandom.com/wiki/Side_Stories_(Octopath_Traveler_II)',\n",
              " 'https://octopathtraveler.fandom.com/wiki/Skills',\n",
              " 'https://octopathtraveler.fandom.com/wiki/Skills_(Octopath_Traveler_II)',\n",
              " 'https://octopathtraveler.fandom.com/wiki/Solistia',\n",
              " 'https://octopathtraveler.fandom.com/wiki/Special:AllMaps',\n",
              " 'https://octopathtraveler.fandom.com/wiki/Special:AllPages',\n",
              " 'https://octopathtraveler.fandom.com/wiki/Special:Community',\n",
              " 'https://octopathtraveler.fandom.com/wiki/Special:ListUsers',\n",
              " 'https://octopathtraveler.fandom.com/wiki/Status_Effects',\n",
              " 'https://octopathtraveler.fandom.com/wiki/Status_Effects_(Octopath_Traveler_II)',\n",
              " 'https://octopathtraveler.fandom.com/wiki/Sunlands',\n",
              " 'https://octopathtraveler.fandom.com/wiki/Support_Skills',\n",
              " 'https://octopathtraveler.fandom.com/wiki/Support_Skills_(Octopath_Traveler_II)',\n",
              " 'https://octopathtraveler.fandom.com/wiki/Talents',\n",
              " 'https://octopathtraveler.fandom.com/wiki/Talents_(Octopath_Traveler_II)',\n",
              " 'https://octopathtraveler.fandom.com/wiki/Temenos_Mistral',\n",
              " 'https://octopathtraveler.fandom.com/wiki/Template:Character?action=edit',\n",
              " 'https://octopathtraveler.fandom.com/wiki/Template:OT2_Navigation?action=edit',\n",
              " 'https://octopathtraveler.fandom.com/wiki/Template_talk:Character',\n",
              " 'https://octopathtraveler.fandom.com/wiki/Therion',\n",
              " 'https://octopathtraveler.fandom.com/wiki/Thief',\n",
              " 'https://octopathtraveler.fandom.com/wiki/Thief_(Octopath_Traveler_II)',\n",
              " 'https://octopathtraveler.fandom.com/wiki/Thron%C3%A9_Anguis',\n",
              " 'https://octopathtraveler.fandom.com/wiki/Toto%27haha',\n",
              " 'https://octopathtraveler.fandom.com/wiki/Tressa_Colzione',\n",
              " 'https://octopathtraveler.fandom.com/wiki/Valuables',\n",
              " 'https://octopathtraveler.fandom.com/wiki/Valuables_(Octopath_Traveler_II)',\n",
              " 'https://octopathtraveler.fandom.com/wiki/Warrior',\n",
              " 'https://octopathtraveler.fandom.com/wiki/Warrior_(Octopath_Traveler_II)',\n",
              " 'https://octopathtraveler.fandom.com/wiki/Weapons',\n",
              " 'https://octopathtraveler.fandom.com/wiki/Weapons_(Octopath_Traveler_II)',\n",
              " 'https://octopathtraveler.fandom.com/wiki/Wildlands',\n",
              " 'https://octopathtraveler.fandom.com/wiki/Winterlands',\n",
              " 'https://octopathtraveler.fandom.com/wiki/Woodlands'}"
            ]
          },
          "execution_count": 5,
          "metadata": {},
          "output_type": "execute_result"
        }
      ],
      "source": [
        "all_links = Website(\"https://octopathtraveler.fandom.com/wiki/Octopath_Traveler_II\").get_links()\n",
        "all_links"
      ]
    },
    {
      "cell_type": "code",
      "execution_count": 6,
      "metadata": {
        "id": "y5aZfTy5cGrM"
      },
      "outputs": [],
      "source": [
        "link_system_prompt = \"You are provided with a list of links found on a webpage. \\\n",
        "You are able to decide which of the links would be most relevant to include in a knowledge base about this game, \\\n",
        "such as links to an Character page, Jobs page, Regions page,  etc.\\n\"\n",
        "link_system_prompt += \"You should respond in JSON as in this example:\"\n",
        "link_system_prompt += \"\"\"\n",
        "{\n",
        "    \"links\": [\n",
        "        {\"type\": \"character\", \"url\": \"https://full.url/goes/here/character\"},\n",
        "        {\"type\": \"location\": \"url\": \"https://another.full.url/location\"}\n",
        "    ]\n",
        "}\n",
        "\"\"\"\n"
      ]
    },
    {
      "cell_type": "code",
      "execution_count": 7,
      "metadata": {
        "id": "J2-iZe2Mc3Pf"
      },
      "outputs": [],
      "source": [
        "def get_links_user_prompt(website):\n",
        "    \"\"\"\n",
        "    Generates a user-friendly prompt containing the list of links from a given website.\n",
        "\n",
        "    Args:\n",
        "        website: contains the URLs\n",
        "\n",
        "    Returns:\n",
        "        str: finished user prompt\n",
        "    \"\"\"\n",
        "    user_prompt = f\"Here is the list of links on the website of {website.url} - \"\n",
        "    user_prompt += \"please decide which of these are relevant web links for a guide about the game, respond with the full https URL in JSON format. \\\n",
        "Do not include Terms of Service, Privacy, email links.\\n\"\n",
        "    user_prompt += \"Links (some might be relative links):\\n\"\n",
        "    user_prompt += \"\\n\".join(website.links)\n",
        "    return user_prompt"
      ]
    },
    {
      "cell_type": "code",
      "execution_count": 8,
      "metadata": {
        "id": "6CJeTA64dFqt"
      },
      "outputs": [],
      "source": [
        "def get_links(url):\n",
        "    \"\"\"\n",
        "    Fetches and processes links from a given URL using a chatbot model to determine relevant links.\n",
        "\n",
        "    Args:\n",
        "        url (str): The URL of the webpage to fetch and process.\n",
        "\n",
        "    Returns:\n",
        "        dict: A JSON object containing the filtered links as determined by the chatbot model.\n",
        "\n",
        "    Raises:\n",
        "        Exception: If the OpenAI API call fails or the response format is invalid.\n",
        "    \"\"\"\n",
        "    website = Website(url)\n",
        "    response = openai.chat.completions.create(\n",
        "        model=MODEL,\n",
        "        messages=[\n",
        "            {\"role\": \"system\", \"content\": link_system_prompt},\n",
        "            {\"role\": \"user\", \"content\": get_links_user_prompt(website)}\n",
        "      ],\n",
        "        response_format={\"type\": \"json_object\"}\n",
        "    )\n",
        "    result = response.choices[0].message.content\n",
        "    return json.loads(result)"
      ]
    },
    {
      "cell_type": "code",
      "execution_count": 9,
      "metadata": {
        "colab": {
          "base_uri": "https://localhost:8080/"
        },
        "id": "neo57_s_dWZR",
        "outputId": "582847ea-36a6-4327-fee1-85de72d97737"
      },
      "outputs": [
        {
          "data": {
            "text/plain": [
              "{'links': [{'type': 'location',\n",
              "   'url': 'https://octopathtraveler.fandom.com/wiki/Orsterra'},\n",
              "  {'type': 'location',\n",
              "   'url': 'https://octopathtraveler.fandom.com/wiki/Frostlands'},\n",
              "  {'type': 'location',\n",
              "   'url': 'https://octopathtraveler.fandom.com/wiki/Flatlands'},\n",
              "  {'type': 'location',\n",
              "   'url': 'https://octopathtraveler.fandom.com/wiki/Coastlands'},\n",
              "  {'type': 'location',\n",
              "   'url': 'https://octopathtraveler.fandom.com/wiki/Highlands'},\n",
              "  {'type': 'location',\n",
              "   'url': 'https://octopathtraveler.fandom.com/wiki/Sunlands'},\n",
              "  {'type': 'location',\n",
              "   'url': 'https://octopathtraveler.fandom.com/wiki/Riverlands'},\n",
              "  {'type': 'location',\n",
              "   'url': 'https://octopathtraveler.fandom.com/wiki/Cliftlands'},\n",
              "  {'type': 'location',\n",
              "   'url': 'https://octopathtraveler.fandom.com/wiki/Woodlands'},\n",
              "  {'type': 'character',\n",
              "   'url': 'https://octopathtraveler.fandom.com/wiki/Ophilia_Clement'},\n",
              "  {'type': 'character',\n",
              "   'url': 'https://octopathtraveler.fandom.com/wiki/Cyrus_Albright'},\n",
              "  {'type': 'character',\n",
              "   'url': 'https://octopathtraveler.fandom.com/wiki/Tressa_Colzione'},\n",
              "  {'type': 'character',\n",
              "   'url': 'https://octopathtraveler.fandom.com/wiki/Olberic_Eisenberg'},\n",
              "  {'type': 'character',\n",
              "   'url': 'https://octopathtraveler.fandom.com/wiki/Primrose_Azelhart'},\n",
              "  {'type': 'character',\n",
              "   'url': 'https://octopathtraveler.fandom.com/wiki/Alfyn_Greengrass'},\n",
              "  {'type': 'character',\n",
              "   'url': 'https://octopathtraveler.fandom.com/wiki/Therion'},\n",
              "  {'type': 'character',\n",
              "   'url': 'https://octopathtraveler.fandom.com/wiki/H%27aanit'},\n",
              "  {'type': 'page', 'url': 'https://octopathtraveler.fandom.com/wiki/Jobs'},\n",
              "  {'type': 'page',\n",
              "   'url': 'https://octopathtraveler.fandom.com/wiki/Category:Inventory'},\n",
              "  {'type': 'page',\n",
              "   'url': 'https://octopathtraveler.fandom.com/wiki/Category:Game_Mechanics'},\n",
              "  {'type': 'page',\n",
              "   'url': 'https://octopathtraveler.fandom.com/wiki/Category:Enemies'},\n",
              "  {'type': 'page',\n",
              "   'url': 'https://octopathtraveler.fandom.com/wiki/Category:Bosses'},\n",
              "  {'type': 'page',\n",
              "   'url': 'https://octopathtraveler.fandom.com/wiki/Side_Stories'},\n",
              "  {'type': 'page',\n",
              "   'url': 'https://octopathtraveler.fandom.com/wiki/Octopath_Traveler_II'},\n",
              "  {'type': 'location',\n",
              "   'url': 'https://octopathtraveler.fandom.com/wiki/Solistia'},\n",
              "  {'type': 'location',\n",
              "   'url': 'https://octopathtraveler.fandom.com/wiki/Toto%27haha'},\n",
              "  {'type': 'location',\n",
              "   'url': 'https://octopathtraveler.fandom.com/wiki/Harborlands'},\n",
              "  {'type': 'location',\n",
              "   'url': 'https://octopathtraveler.fandom.com/wiki/Brightlands'},\n",
              "  {'type': 'location',\n",
              "   'url': 'https://octopathtraveler.fandom.com/wiki/Winterlands'},\n",
              "  {'type': 'location',\n",
              "   'url': 'https://octopathtraveler.fandom.com/wiki/Wildlands'},\n",
              "  {'type': 'location',\n",
              "   'url': 'https://octopathtraveler.fandom.com/wiki/Leaflands'},\n",
              "  {'type': 'location',\n",
              "   'url': 'https://octopathtraveler.fandom.com/wiki/Crestlands'},\n",
              "  {'type': 'location',\n",
              "   'url': 'https://octopathtraveler.fandom.com/wiki/Hinoeuma'},\n",
              "  {'type': 'character',\n",
              "   'url': 'https://octopathtraveler.fandom.com/wiki/Ochette'},\n",
              "  {'type': 'character',\n",
              "   'url': 'https://octopathtraveler.fandom.com/wiki/Castti_Florenz'},\n",
              "  {'type': 'character',\n",
              "   'url': 'https://octopathtraveler.fandom.com/wiki/Thron%C3%A9_Anguis'},\n",
              "  {'type': 'character',\n",
              "   'url': 'https://octopathtraveler.fandom.com/wiki/Osvald_V._Vanstein'},\n",
              "  {'type': 'character',\n",
              "   'url': 'https://octopathtraveler.fandom.com/wiki/Partitio_Yellowill'},\n",
              "  {'type': 'character',\n",
              "   'url': 'https://octopathtraveler.fandom.com/wiki/Agnea_Bristarni'},\n",
              "  {'type': 'character',\n",
              "   'url': 'https://octopathtraveler.fandom.com/wiki/Temenos_Mistral'},\n",
              "  {'type': 'character',\n",
              "   'url': 'https://octopathtraveler.fandom.com/wiki/Hikari_Ku'},\n",
              "  {'type': 'page',\n",
              "   'url': 'https://octopathtraveler.fandom.com/wiki/Jobs_(Octopath_Traveler_II)'},\n",
              "  {'type': 'page',\n",
              "   'url': 'https://octopathtraveler.fandom.com/wiki/Inventory'},\n",
              "  {'type': 'page',\n",
              "   'url': 'https://octopathtraveler.fandom.com/wiki/Category:Octopath_Traveler_II_Game_Mechanics'},\n",
              "  {'type': 'page',\n",
              "   'url': 'https://octopathtraveler.fandom.com/wiki/Category:Octopath_Traveler_II_Enemies'},\n",
              "  {'type': 'page',\n",
              "   'url': 'https://octopathtraveler.fandom.com/wiki/Category:Octopath_Traveler_II_Bosses'},\n",
              "  {'type': 'page',\n",
              "   'url': 'https://octopathtraveler.fandom.com/wiki/Side_Stories_(Octopath_Traveler_II)'}]}"
            ]
          },
          "execution_count": 9,
          "metadata": {},
          "output_type": "execute_result"
        }
      ],
      "source": [
        "useful_links = get_links(\"https://octopathtraveler.fandom.com/wiki/Category:Octopath_Traveler_II\")\n",
        "useful_links"
      ]
    },
    {
      "cell_type": "code",
      "execution_count": 10,
      "metadata": {
        "id": "a57yC98jzEWC"
      },
      "outputs": [],
      "source": [
        "def message_for(file_name, content):\n",
        "  system_prompt = (\n",
        "    f\"You are a specialized assistant tasked with gathering relevant and accurate information \"\n",
        "    f\"about {file_name} related to Octopath Traveler (video game). When provided with contents, \"\n",
        "    f\"your role is to extract and present all relevant details about {file_name}, focusing solely \"\n",
        "    f\"on gathering information without summarizing, interpreting, or analyzing. Respond in markdown.\")\n",
        "\n",
        "  return [\n",
        "    {\"role\": \"system\",\n",
        "     \"content\": system_prompt},\n",
        "    {\"role\": \"user\",\n",
        "     \"content\": content}\n",
        "  ]\n"
      ]
    },
    {
      "cell_type": "code",
      "execution_count": 11,
      "metadata": {
        "id": "QT3ES6NopC1g"
      },
      "outputs": [],
      "source": [
        "def create_knowledge_base(useful_links, knowledge_base):\n",
        "  if not os.path.exists(knowledge_base):\n",
        "    os.mkdir(knowledge_base)\n",
        "  for i in tqdm(range(len(useful_links[\"links\"]))):\n",
        "    folder_path = f\"{knowledge_base}/{useful_links['links'][i]['type']}\"\n",
        "    file_name = useful_links['links'][i]['url'].split(\"/\")[-1]\n",
        "    file_path = os.path.join(folder_path, file_name) + \".md\"\n",
        "    if not os.path.exists(folder_path):\n",
        "      os.mkdir(folder_path)\n",
        "      print(f\"{folder_path} created.\")\n",
        "\n",
        "    # uncommon the line below if more URLs are scrapped\n",
        "    # if not os.path.exists(file_path):\n",
        "    print(f\"Creating knowledge for {file_name}\")\n",
        "    content = Website(useful_links['links'][i]['url']).get_contents()\n",
        "    messages = message_for(file_name, content)\n",
        "    response = openai.chat.completions.create(\n",
        "      model=MODEL,\n",
        "      messages=messages\n",
        "    )\n",
        "\n",
        "    # write knowledge into files\n",
        "    with open(file_path, \"w\") as f:\n",
        "      f.write(response.choices[0].message.content)\n",
        "    print(f\"\\nDone!\")"
      ]
    },
    {
      "cell_type": "code",
      "execution_count": 12,
      "metadata": {
        "colab": {
          "base_uri": "https://localhost:8080/"
        },
        "id": "_lPGbcSUrs2u",
        "outputId": "f208467a-eea8-4afc-cd63-e5e400073ac8"
      },
      "outputs": [
        {
          "name": "stderr",
          "output_type": "stream",
          "text": [
            "\r  0%|          | 0/47 [00:00<?, ?it/s]"
          ]
        },
        {
          "name": "stdout",
          "output_type": "stream",
          "text": [
            "octopath-knowledge/location created.\n",
            "Creating knowledge for Orsterra\n"
          ]
        },
        {
          "name": "stderr",
          "output_type": "stream",
          "text": [
            "\r  2%|▏         | 1/47 [00:14<10:57, 14.28s/it]"
          ]
        },
        {
          "name": "stdout",
          "output_type": "stream",
          "text": [
            "\n",
            "Done!\n",
            "Creating knowledge for Frostlands\n"
          ]
        },
        {
          "name": "stderr",
          "output_type": "stream",
          "text": [
            "\r  4%|▍         | 2/47 [00:26<09:36, 12.80s/it]"
          ]
        },
        {
          "name": "stdout",
          "output_type": "stream",
          "text": [
            "\n",
            "Done!\n",
            "Creating knowledge for Flatlands\n"
          ]
        },
        {
          "name": "stderr",
          "output_type": "stream",
          "text": [
            "\r  6%|▋         | 3/47 [00:46<11:56, 16.29s/it]"
          ]
        },
        {
          "name": "stdout",
          "output_type": "stream",
          "text": [
            "\n",
            "Done!\n",
            "Creating knowledge for Coastlands\n"
          ]
        },
        {
          "name": "stderr",
          "output_type": "stream",
          "text": [
            "\r  9%|▊         | 4/47 [00:57<10:06, 14.10s/it]"
          ]
        },
        {
          "name": "stdout",
          "output_type": "stream",
          "text": [
            "\n",
            "Done!\n",
            "Creating knowledge for Highlands\n"
          ]
        },
        {
          "name": "stderr",
          "output_type": "stream",
          "text": [
            "\r 11%|█         | 5/47 [01:12<10:13, 14.60s/it]"
          ]
        },
        {
          "name": "stdout",
          "output_type": "stream",
          "text": [
            "\n",
            "Done!\n",
            "Creating knowledge for Sunlands\n"
          ]
        },
        {
          "name": "stderr",
          "output_type": "stream",
          "text": [
            "\r 13%|█▎        | 6/47 [01:28<10:17, 15.06s/it]"
          ]
        },
        {
          "name": "stdout",
          "output_type": "stream",
          "text": [
            "\n",
            "Done!\n",
            "Creating knowledge for Riverlands\n"
          ]
        },
        {
          "name": "stderr",
          "output_type": "stream",
          "text": [
            "\r 15%|█▍        | 7/47 [01:52<11:59, 17.99s/it]"
          ]
        },
        {
          "name": "stdout",
          "output_type": "stream",
          "text": [
            "\n",
            "Done!\n",
            "Creating knowledge for Cliftlands\n"
          ]
        },
        {
          "name": "stderr",
          "output_type": "stream",
          "text": [
            "\r 17%|█▋        | 8/47 [02:41<18:07, 27.87s/it]"
          ]
        },
        {
          "name": "stdout",
          "output_type": "stream",
          "text": [
            "\n",
            "Done!\n",
            "Creating knowledge for Woodlands\n"
          ]
        },
        {
          "name": "stderr",
          "output_type": "stream",
          "text": [
            "\r 19%|█▉        | 9/47 [02:55<14:50, 23.45s/it]"
          ]
        },
        {
          "name": "stdout",
          "output_type": "stream",
          "text": [
            "\n",
            "Done!\n",
            "octopath-knowledge/character created.\n",
            "Creating knowledge for Ophilia_Clement\n"
          ]
        },
        {
          "name": "stderr",
          "output_type": "stream",
          "text": [
            "\r 21%|██▏       | 10/47 [03:17<14:16, 23.15s/it]"
          ]
        },
        {
          "name": "stdout",
          "output_type": "stream",
          "text": [
            "\n",
            "Done!\n",
            "Creating knowledge for Cyrus_Albright\n"
          ]
        },
        {
          "name": "stderr",
          "output_type": "stream",
          "text": [
            "\r 23%|██▎       | 11/47 [03:39<13:35, 22.66s/it]"
          ]
        },
        {
          "name": "stdout",
          "output_type": "stream",
          "text": [
            "\n",
            "Done!\n",
            "Creating knowledge for Tressa_Colzione\n"
          ]
        },
        {
          "name": "stderr",
          "output_type": "stream",
          "text": [
            "\r 26%|██▌       | 12/47 [04:03<13:31, 23.17s/it]"
          ]
        },
        {
          "name": "stdout",
          "output_type": "stream",
          "text": [
            "\n",
            "Done!\n",
            "Creating knowledge for Olberic_Eisenberg\n"
          ]
        },
        {
          "name": "stderr",
          "output_type": "stream",
          "text": [
            "\r 28%|██▊       | 13/47 [04:18<11:38, 20.53s/it]"
          ]
        },
        {
          "name": "stdout",
          "output_type": "stream",
          "text": [
            "\n",
            "Done!\n",
            "Creating knowledge for Primrose_Azelhart\n"
          ]
        },
        {
          "name": "stderr",
          "output_type": "stream",
          "text": [
            "\r 30%|██▉       | 14/47 [04:31<10:06, 18.39s/it]"
          ]
        },
        {
          "name": "stdout",
          "output_type": "stream",
          "text": [
            "\n",
            "Done!\n",
            "Creating knowledge for Alfyn_Greengrass\n"
          ]
        },
        {
          "name": "stderr",
          "output_type": "stream",
          "text": [
            "\r 32%|███▏      | 15/47 [04:46<09:10, 17.22s/it]"
          ]
        },
        {
          "name": "stdout",
          "output_type": "stream",
          "text": [
            "\n",
            "Done!\n",
            "Creating knowledge for Therion\n"
          ]
        },
        {
          "name": "stderr",
          "output_type": "stream",
          "text": [
            "\r 34%|███▍      | 16/47 [05:15<10:44, 20.78s/it]"
          ]
        },
        {
          "name": "stdout",
          "output_type": "stream",
          "text": [
            "\n",
            "Done!\n",
            "Creating knowledge for H%27aanit\n"
          ]
        },
        {
          "name": "stderr",
          "output_type": "stream",
          "text": [
            "\r 36%|███▌      | 17/47 [05:32<09:49, 19.67s/it]"
          ]
        },
        {
          "name": "stdout",
          "output_type": "stream",
          "text": [
            "\n",
            "Done!\n",
            "octopath-knowledge/page created.\n",
            "Creating knowledge for Jobs\n"
          ]
        },
        {
          "name": "stderr",
          "output_type": "stream",
          "text": [
            "\r 38%|███▊      | 18/47 [05:45<08:31, 17.63s/it]"
          ]
        },
        {
          "name": "stdout",
          "output_type": "stream",
          "text": [
            "\n",
            "Done!\n",
            "Creating knowledge for Category:Inventory\n"
          ]
        },
        {
          "name": "stderr",
          "output_type": "stream",
          "text": [
            "\r 40%|████      | 19/47 [05:51<06:41, 14.36s/it]"
          ]
        },
        {
          "name": "stdout",
          "output_type": "stream",
          "text": [
            "\n",
            "Done!\n",
            "Creating knowledge for Category:Game_Mechanics\n"
          ]
        },
        {
          "name": "stderr",
          "output_type": "stream",
          "text": [
            "\r 43%|████▎     | 20/47 [06:10<07:00, 15.56s/it]"
          ]
        },
        {
          "name": "stdout",
          "output_type": "stream",
          "text": [
            "\n",
            "Done!\n",
            "Creating knowledge for Category:Enemies\n"
          ]
        },
        {
          "name": "stderr",
          "output_type": "stream",
          "text": [
            "\r 45%|████▍     | 21/47 [06:17<05:38, 13.01s/it]"
          ]
        },
        {
          "name": "stdout",
          "output_type": "stream",
          "text": [
            "\n",
            "Done!\n",
            "Creating knowledge for Category:Bosses\n"
          ]
        },
        {
          "name": "stderr",
          "output_type": "stream",
          "text": [
            "\r 47%|████▋     | 22/47 [06:31<05:30, 13.23s/it]"
          ]
        },
        {
          "name": "stdout",
          "output_type": "stream",
          "text": [
            "\n",
            "Done!\n",
            "Creating knowledge for Side_Stories\n"
          ]
        },
        {
          "name": "stderr",
          "output_type": "stream",
          "text": [
            "\r 49%|████▉     | 23/47 [06:48<05:47, 14.46s/it]"
          ]
        },
        {
          "name": "stdout",
          "output_type": "stream",
          "text": [
            "\n",
            "Done!\n",
            "Creating knowledge for Octopath_Traveler_II\n"
          ]
        },
        {
          "name": "stderr",
          "output_type": "stream",
          "text": [
            "\r 51%|█████     | 24/47 [07:02<05:27, 14.23s/it]"
          ]
        },
        {
          "name": "stdout",
          "output_type": "stream",
          "text": [
            "\n",
            "Done!\n",
            "Creating knowledge for Solistia\n"
          ]
        },
        {
          "name": "stderr",
          "output_type": "stream",
          "text": [
            "\r 53%|█████▎    | 25/47 [07:26<06:22, 17.37s/it]"
          ]
        },
        {
          "name": "stdout",
          "output_type": "stream",
          "text": [
            "\n",
            "Done!\n",
            "Creating knowledge for Toto%27haha\n"
          ]
        },
        {
          "name": "stderr",
          "output_type": "stream",
          "text": [
            "\r 55%|█████▌    | 26/47 [07:38<05:31, 15.78s/it]"
          ]
        },
        {
          "name": "stdout",
          "output_type": "stream",
          "text": [
            "\n",
            "Done!\n",
            "Creating knowledge for Harborlands\n"
          ]
        },
        {
          "name": "stderr",
          "output_type": "stream",
          "text": [
            "\r 57%|█████▋    | 27/47 [07:51<04:58, 14.94s/it]"
          ]
        },
        {
          "name": "stdout",
          "output_type": "stream",
          "text": [
            "\n",
            "Done!\n",
            "Creating knowledge for Brightlands\n"
          ]
        },
        {
          "name": "stderr",
          "output_type": "stream",
          "text": [
            "\r 60%|█████▉    | 28/47 [08:04<04:31, 14.31s/it]"
          ]
        },
        {
          "name": "stdout",
          "output_type": "stream",
          "text": [
            "\n",
            "Done!\n",
            "Creating knowledge for Winterlands\n"
          ]
        },
        {
          "name": "stderr",
          "output_type": "stream",
          "text": [
            "\r 62%|██████▏   | 29/47 [08:16<04:02, 13.50s/it]"
          ]
        },
        {
          "name": "stdout",
          "output_type": "stream",
          "text": [
            "\n",
            "Done!\n",
            "Creating knowledge for Wildlands\n"
          ]
        },
        {
          "name": "stderr",
          "output_type": "stream",
          "text": [
            "\r 64%|██████▍   | 30/47 [08:24<03:21, 11.86s/it]"
          ]
        },
        {
          "name": "stdout",
          "output_type": "stream",
          "text": [
            "\n",
            "Done!\n",
            "Creating knowledge for Leaflands\n"
          ]
        },
        {
          "name": "stderr",
          "output_type": "stream",
          "text": [
            "\r 66%|██████▌   | 31/47 [08:36<03:12, 12.05s/it]"
          ]
        },
        {
          "name": "stdout",
          "output_type": "stream",
          "text": [
            "\n",
            "Done!\n",
            "Creating knowledge for Crestlands\n"
          ]
        },
        {
          "name": "stderr",
          "output_type": "stream",
          "text": [
            "\r 68%|██████▊   | 32/47 [08:58<03:41, 14.79s/it]"
          ]
        },
        {
          "name": "stdout",
          "output_type": "stream",
          "text": [
            "\n",
            "Done!\n",
            "Creating knowledge for Hinoeuma\n"
          ]
        },
        {
          "name": "stderr",
          "output_type": "stream",
          "text": [
            "\r 70%|███████   | 33/47 [09:22<04:07, 17.64s/it]"
          ]
        },
        {
          "name": "stdout",
          "output_type": "stream",
          "text": [
            "\n",
            "Done!\n",
            "Creating knowledge for Ochette\n"
          ]
        },
        {
          "name": "stderr",
          "output_type": "stream",
          "text": [
            "\r 72%|███████▏  | 34/47 [09:48<04:24, 20.34s/it]"
          ]
        },
        {
          "name": "stdout",
          "output_type": "stream",
          "text": [
            "\n",
            "Done!\n",
            "Creating knowledge for Castti_Florenz\n"
          ]
        },
        {
          "name": "stderr",
          "output_type": "stream",
          "text": [
            "\r 74%|███████▍  | 35/47 [10:09<04:04, 20.36s/it]"
          ]
        },
        {
          "name": "stdout",
          "output_type": "stream",
          "text": [
            "\n",
            "Done!\n",
            "Creating knowledge for Thron%C3%A9_Anguis\n"
          ]
        },
        {
          "name": "stderr",
          "output_type": "stream",
          "text": [
            "\r 77%|███████▋  | 36/47 [10:24<03:25, 18.69s/it]"
          ]
        },
        {
          "name": "stdout",
          "output_type": "stream",
          "text": [
            "\n",
            "Done!\n",
            "Creating knowledge for Osvald_V._Vanstein\n"
          ]
        },
        {
          "name": "stderr",
          "output_type": "stream",
          "text": [
            "\r 79%|███████▊  | 37/47 [10:35<02:43, 16.36s/it]"
          ]
        },
        {
          "name": "stdout",
          "output_type": "stream",
          "text": [
            "\n",
            "Done!\n",
            "Creating knowledge for Partitio_Yellowill\n"
          ]
        },
        {
          "name": "stderr",
          "output_type": "stream",
          "text": [
            "\r 81%|████████  | 38/47 [11:05<03:05, 20.62s/it]"
          ]
        },
        {
          "name": "stdout",
          "output_type": "stream",
          "text": [
            "\n",
            "Done!\n",
            "Creating knowledge for Agnea_Bristarni\n"
          ]
        },
        {
          "name": "stderr",
          "output_type": "stream",
          "text": [
            "\r 83%|████████▎ | 39/47 [11:22<02:35, 19.41s/it]"
          ]
        },
        {
          "name": "stdout",
          "output_type": "stream",
          "text": [
            "\n",
            "Done!\n",
            "Creating knowledge for Temenos_Mistral\n"
          ]
        },
        {
          "name": "stderr",
          "output_type": "stream",
          "text": [
            "\r 85%|████████▌ | 40/47 [11:46<02:26, 20.90s/it]"
          ]
        },
        {
          "name": "stdout",
          "output_type": "stream",
          "text": [
            "\n",
            "Done!\n",
            "Creating knowledge for Hikari_Ku\n"
          ]
        },
        {
          "name": "stderr",
          "output_type": "stream",
          "text": [
            "\r 87%|████████▋ | 41/47 [12:19<02:26, 24.36s/it]"
          ]
        },
        {
          "name": "stdout",
          "output_type": "stream",
          "text": [
            "\n",
            "Done!\n",
            "Creating knowledge for Jobs_(Octopath_Traveler_II)\n"
          ]
        },
        {
          "name": "stderr",
          "output_type": "stream",
          "text": [
            "\r 89%|████████▉ | 42/47 [12:25<01:35, 19.08s/it]"
          ]
        },
        {
          "name": "stdout",
          "output_type": "stream",
          "text": [
            "\n",
            "Done!\n",
            "Creating knowledge for Inventory\n"
          ]
        },
        {
          "name": "stderr",
          "output_type": "stream",
          "text": [
            "\r 91%|█████████▏| 43/47 [12:31<01:00, 15.18s/it]"
          ]
        },
        {
          "name": "stdout",
          "output_type": "stream",
          "text": [
            "\n",
            "Done!\n",
            "Creating knowledge for Category:Octopath_Traveler_II_Game_Mechanics\n"
          ]
        },
        {
          "name": "stderr",
          "output_type": "stream",
          "text": [
            "\r 94%|█████████▎| 44/47 [12:36<00:35, 11.89s/it]"
          ]
        },
        {
          "name": "stdout",
          "output_type": "stream",
          "text": [
            "\n",
            "Done!\n",
            "Creating knowledge for Category:Octopath_Traveler_II_Enemies\n"
          ]
        },
        {
          "name": "stderr",
          "output_type": "stream",
          "text": [
            "\r 96%|█████████▌| 45/47 [12:47<00:23, 11.80s/it]"
          ]
        },
        {
          "name": "stdout",
          "output_type": "stream",
          "text": [
            "\n",
            "Done!\n",
            "Creating knowledge for Category:Octopath_Traveler_II_Bosses\n"
          ]
        },
        {
          "name": "stderr",
          "output_type": "stream",
          "text": [
            "\r 98%|█████████▊| 46/47 [13:01<00:12, 12.38s/it]"
          ]
        },
        {
          "name": "stdout",
          "output_type": "stream",
          "text": [
            "\n",
            "Done!\n",
            "Creating knowledge for Side_Stories_(Octopath_Traveler_II)\n"
          ]
        },
        {
          "name": "stderr",
          "output_type": "stream",
          "text": [
            "100%|██████████| 47/47 [13:23<00:00, 17.10s/it]"
          ]
        },
        {
          "name": "stdout",
          "output_type": "stream",
          "text": [
            "\n",
            "Done!\n"
          ]
        },
        {
          "name": "stderr",
          "output_type": "stream",
          "text": [
            "\n"
          ]
        }
      ],
      "source": [
        "create_knowledge_base(useful_links, \"octopath-knowledge\")"
      ]
    },
    {
      "cell_type": "code",
      "execution_count": 22,
      "metadata": {
        "colab": {
          "base_uri": "https://localhost:8080/"
        },
        "id": "slIitKvB6VTD",
        "outputId": "6c87cfc2-f077-4c65-96e3-d5b7b0b43aca"
      },
      "outputs": [
        {
          "name": "stdout",
          "output_type": "stream",
          "text": [
            "Total number of chunks: 109\n",
            "Document types found: ['page', 'character', 'location']\n"
          ]
        }
      ],
      "source": [
        "db_name = \"octopath_db\"\n",
        "\n",
        "# take everything in all the sub-folders of the knowledge base\n",
        "folders = glob.glob(\"octopath-knowledge/*\")\n",
        "\n",
        "def add_metadata(doc, doc_type):\n",
        "    doc.metadata[\"doc_type\"] = doc_type\n",
        "    return doc\n",
        "\n",
        "# try this code if the line below doesn't work: text_loader_kwargs={'autodetect_encoding': True}\n",
        "text_loader_kwargs = {'encoding': 'utf-8'}\n",
        "\n",
        "documents = []\n",
        "for folder in folders:\n",
        "    doc_type = os.path.basename(folder)\n",
        "    loader = DirectoryLoader(folder, glob=\"**/*.md\", loader_cls=TextLoader, loader_kwargs=text_loader_kwargs)\n",
        "    folder_docs = loader.load()\n",
        "    documents.extend([add_metadata(doc, doc_type) for doc in folder_docs])\n",
        "\n",
        "text_splitter = CharacterTextSplitter(chunk_size=1500, chunk_overlap=300)\n",
        "chunks = text_splitter.split_documents(documents)\n",
        "\n",
        "document_types = list(set([doc.metadata['doc_type'] for doc in documents]))\n",
        "print(f\"Total number of chunks: {len(chunks)}\")\n",
        "print(f\"Document types found: {document_types}\")"
      ]
    },
    {
      "cell_type": "code",
      "execution_count": 23,
      "metadata": {
        "colab": {
          "base_uri": "https://localhost:8080/"
        },
        "id": "ibB0Tf6Y9t64",
        "outputId": "cc3c624e-08ea-4669-e83e-1e229984112e"
      },
      "outputs": [
        {
          "name": "stdout",
          "output_type": "stream",
          "text": [
            "Vectorstore created with 109 documents\n"
          ]
        }
      ],
      "source": [
        "# Put the chunks of data into a Vector Store that associates a Vector Embedding with each chunk\n",
        "\n",
        "embeddings = OpenAIEmbeddings(openai_api_key=openai_api_key)\n",
        "# An alternative approach\n",
        "# from langchain.embeddings import HuggingFaceEmbeddings\n",
        "# embeddings = HuggingFaceEmbeddings(model_name=\"sentence-transformers/all-MiniLM-L6-v2\")\n",
        "\n",
        "# Delete DB if already exists\n",
        "if os.path.exists(db_name):\n",
        "    Chroma(persist_directory=db_name, embedding_function=embeddings).delete_collection()\n",
        "\n",
        "# Create vectorstore\n",
        "vectorstore = Chroma.from_documents(documents=chunks, embedding=embeddings, persist_directory=db_name)\n",
        "print(f\"Vectorstore created with {vectorstore._collection.count()} documents\")"
      ]
    },
    {
      "cell_type": "code",
      "execution_count": 24,
      "metadata": {
        "colab": {
          "base_uri": "https://localhost:8080/"
        },
        "id": "YP379XkVgeVG",
        "outputId": "6242bfe8-38d6-474e-d04a-f3ce2302fba6"
      },
      "outputs": [
        {
          "name": "stdout",
          "output_type": "stream",
          "text": [
            "['mediumblue', 'slateblue', 'lightblue']\n"
          ]
        }
      ],
      "source": [
        "import random\n",
        "from matplotlib import colors\n",
        "\n",
        "def generate_random_colors(num_colors):\n",
        "    color_names = list(colors.CSS4_COLORS.keys())\n",
        "    random_colors = random.sample(color_names, num_colors)\n",
        "    return random_colors\n",
        "\n",
        "num_colors = len(set(doc.metadata['doc_type'] for doc in documents))\n",
        "random_colors = generate_random_colors(num_colors)\n",
        "print(random_colors)"
      ]
    },
    {
      "cell_type": "code",
      "execution_count": 25,
      "metadata": {
        "id": "B5HTpY7QaSas"
      },
      "outputs": [],
      "source": [
        "# prework for visualizing vectorstore\n",
        "\n",
        "collection = vectorstore._collection\n",
        "result = collection.get(include=['embeddings', 'documents', 'metadatas'])\n",
        "vectors = np.array(result['embeddings'])\n",
        "documents = result['documents']\n",
        "metadatas = result['metadatas']\n",
        "doc_types = [metadata['doc_type'] for metadata in metadatas]\n",
        "colors = [random_colors[document_types.index(t)] for t in doc_types]"
      ]
    },
    {
      "cell_type": "code",
      "execution_count": 31,
      "metadata": {
        "colab": {
          "base_uri": "https://localhost:8080/",
          "height": 617
        },
        "id": "lmyerA6iiUV9",
        "outputId": "4e86c67f-a99f-4dd4-9202-e1738aa65488"
      },
      "outputs": [
        {
          "data": {
            "text/html": [
              "<html>\n",
              "<head><meta charset=\"utf-8\" /></head>\n",
              "<body>\n",
              "    <div>            <script src=\"https://cdnjs.cloudflare.com/ajax/libs/mathjax/2.7.5/MathJax.js?config=TeX-AMS-MML_SVG\"></script><script type=\"text/javascript\">if (window.MathJax && window.MathJax.Hub && window.MathJax.Hub.Config) {window.MathJax.Hub.Config({SVG: {font: \"STIX-Web\"}});}</script>                <script type=\"text/javascript\">window.PlotlyConfig = {MathJaxConfig: 'local'};</script>\n",
              "        <script charset=\"utf-8\" src=\"https://cdn.plot.ly/plotly-2.35.2.min.js\"></script>                <div id=\"8270be3d-235e-4505-b514-9b03367fb89d\" class=\"plotly-graph-div\" style=\"height:600px; width:800px;\"></div>            <script type=\"text/javascript\">                                    window.PLOTLYENV=window.PLOTLYENV || {};                                    if (document.getElementById(\"8270be3d-235e-4505-b514-9b03367fb89d\")) {                    Plotly.newPlot(                        \"8270be3d-235e-4505-b514-9b03367fb89d\",                        [{\"hoverinfo\":\"text\",\"marker\":{\"color\":[\"slateblue\",\"slateblue\",\"slateblue\",\"slateblue\",\"slateblue\",\"slateblue\",\"slateblue\",\"slateblue\",\"slateblue\",\"slateblue\",\"slateblue\",\"slateblue\",\"slateblue\",\"slateblue\",\"slateblue\",\"slateblue\",\"slateblue\",\"slateblue\",\"slateblue\",\"slateblue\",\"slateblue\",\"slateblue\",\"slateblue\",\"slateblue\",\"slateblue\",\"slateblue\",\"slateblue\",\"slateblue\",\"slateblue\",\"slateblue\",\"slateblue\",\"slateblue\",\"slateblue\",\"slateblue\",\"slateblue\",\"slateblue\",\"slateblue\",\"slateblue\",\"slateblue\",\"slateblue\",\"slateblue\",\"slateblue\",\"slateblue\",\"slateblue\",\"slateblue\",\"slateblue\",\"mediumblue\",\"mediumblue\",\"mediumblue\",\"mediumblue\",\"mediumblue\",\"mediumblue\",\"mediumblue\",\"mediumblue\",\"mediumblue\",\"mediumblue\",\"mediumblue\",\"mediumblue\",\"mediumblue\",\"mediumblue\",\"mediumblue\",\"mediumblue\",\"mediumblue\",\"mediumblue\",\"mediumblue\",\"mediumblue\",\"mediumblue\",\"mediumblue\",\"lightblue\",\"lightblue\",\"lightblue\",\"lightblue\",\"lightblue\",\"lightblue\",\"lightblue\",\"lightblue\",\"lightblue\",\"lightblue\",\"lightblue\",\"lightblue\",\"lightblue\",\"lightblue\",\"lightblue\",\"lightblue\",\"lightblue\",\"lightblue\",\"lightblue\",\"lightblue\",\"lightblue\",\"lightblue\",\"lightblue\",\"lightblue\",\"lightblue\",\"lightblue\",\"lightblue\",\"lightblue\",\"lightblue\",\"lightblue\",\"lightblue\",\"lightblue\",\"lightblue\",\"lightblue\",\"lightblue\",\"lightblue\",\"lightblue\",\"lightblue\",\"lightblue\",\"lightblue\",\"lightblue\"],\"opacity\":0.8,\"size\":5},\"mode\":\"markers\",\"text\":[\"Type: character\\u003cbr\\u003eText: # Temenos Mistral Information from Octopath Traveler\\n\\n## Overview\\nTemenos Mistral is a character fro...\",\"Type: character\\u003cbr\\u003eText: ## History\\n- **Before the Story:** Temenos and Roi were foundlings adopted by Pontiff Jörg. They bot...\",\"Type: character\\u003cbr\\u003eText: ## Quotes\\nTemenos has a range of quotes reflecting his personality and actions in the game, often sh...\",\"Type: character\\u003cbr\\u003eText: # Ophilia Clement - Octopath Traveler\\n\\n## Basic Information\\n- **Japanese Name:** オフィーリア・クレメント (Ofiri...\",\"Type: character\\u003cbr\\u003eText: ## Story\\n\\n### Prior to the Story\\n- Orphaned 15 years before the game's events due to a war.\\n- Adopte...\",\"Type: character\\u003cbr\\u003eText: ## Battle\\n\\n### Skills\\n- **Cleric Skills:**\\n  - Heal, buff, and light-element spells.\\n  - Central to ...\",\"Type: character\\u003cbr\\u003eText: # Agnea Bristarni in Octopath Traveler II\\n\\n## Basic Information\\n- Japanese: アグネア・ブリスターニ (Romanized: ...\",\"Type: character\\u003cbr\\u003eText: ### Personality\\nAgnea is characterized by her cheerful and optimistic demeanor. She is compassionate...\",\"Type: character\\u003cbr\\u003eText: ### Support Skills\\n- **The Show Goes On:** Extends duration of effects.\\n- **Ever Evasive:** Increase...\",\"Type: character\\u003cbr\\u003eText: # Castti Florenz\\n\\n### General Information\\n- **Gender**: Female\\n- **Age**: 29\\n- **Status**: Alive\\n- *...\",\"Type: character\\u003cbr\\u003eText: ### Skill Set\\n- **Apothecary Talent**: Concoct allows using materials to create compounds with varyi...\",\"Type: character\\u003cbr\\u003eText: ```markdown\\n# Tressa Colzione\\n\\n## General Information\\n- **Gender:** Female\\n- **Age:** 18\\n- **Status:...\",\"Type: character\\u003cbr\\u003eText: ### Chapter 1\\nIn Rippletide, Tressa meets Captain Leon and helps retrieve stolen goods from pirates,...\",\"Type: character\\u003cbr\\u003eText: ```markdown\\n# Primrose Azelhart\\n\\n## Information\\n- **Japanese:** プリムロゼ・エゼルアート\\n- **Romanized:** Purimu...\",\"Type: character\\u003cbr\\u003eText: ### History\\n#### Prior to Story\\nTen years prior, Primrose witnessed her father’s murder by three men...\",\"Type: character\\u003cbr\\u003eText: ### Support Skills\\n- Recommended skills include `Inner Strength`, `Saving Grace`, `Elemental Augment...\",\"Type: character\\u003cbr\\u003eText: # Hikari Ku in Octopath Traveler II\\n\\n## Basic Information\\n- **Name**: Hikari Ku\\n- **Gender**: Male\\n-...\",\"Type: character\\u003cbr\\u003eText: 2. **Chapter 2**:\\n   - Hikari requests help from Kazan, eventually becoming involved in arena battle...\",\"Type: character\\u003cbr\\u003eText: ## Special Notes\\n- Known for learning skills from defeated opponents and using them effectively in c...\",\"Type: character\\u003cbr\\u003eText: ## Ochette Information\\n\\n- **Japanese**: オーシュット\\n- **Romanized**: Ōshutto\\n- **Gender**: Female\\n- **Age...\",\"Type: character\\u003cbr\\u003eText: ### History\\n- **Prior to Story**: Trained as a hunter by Master Juvah after he heard a premonition r...\",\"Type: character\\u003cbr\\u003eText: ### Latent Power: Animal Instincts\\n- Special skills without SP consumption including powerful attack...\",\"Type: character\\u003cbr\\u003eText: # Alfyn Greengrass\\n\\n## General Information\\n- **Name:** Alfyn Greengrass\\n- **Japanese Name:** アーフェン・グ...\",\"Type: character\\u003cbr\\u003eText: ## Story\\n\\n### History\\n- **Childhood:** Saved by a traveling apothecary from a plague, sparking his a...\",\"Type: character\\u003cbr\\u003eText: ### Support Skills\\n- **Inspiration, Hale and Hearty, Resist Ailments, Heightened Healing**\\n\\n- **Uniq...\",\"Type: character\\u003cbr\\u003eText: # Partitio Yellowil\\n\\n## General Information\\n- **Game:** Octopath Traveler II\\n- **Japanese Name:** パル...\",\"Type: character\\u003cbr\\u003eText: ## History\\n\\n### Prior to Story\\n- Sixteen years prior, involved in establishing Oresrush with his fat...\",\"Type: character\\u003cbr\\u003eText: #### Crossed Paths with Osvald\\n- Partitio joins with Osvald to assist Regulus with his telescope inv...\",\"Type: character\\u003cbr\\u003eText: ### Support Skills\\n- **Grows on Trees, Boost-Start, Hang Tough, Full Power.**\\n\\n### EX Skills\\n- **Neg...\",\"Type: character\\u003cbr\\u003eText: ```markdown\\n# Therion\\n\\n## Information\\n- **Name:** Therion\\n- **Japanese:** テリオン\\n- **Romanized:** Teri...\",\"Type: character\\u003cbr\\u003eText: ## History\\n\\n### Prior to Story\\nTen years before the story, Therion was captured and imprisoned but e...\",\"Type: character\\u003cbr\\u003eText: ## Battle\\n\\n### Thief Skills\\n- **Steal:** SP 2\\n- **Wildfire:** SP 7\\n- **HP Thief:** SP 6\\n- **Shackle ...\",\"Type: character\\u003cbr\\u003eText: # Olberic Eisenberg - Octopath Traveler Wiki\\n\\n## General Information\\n- Name: Olberic Eisenberg\\n- Jap...\",\"Type: character\\u003cbr\\u003eText: ## Historical Background\\nOlberic was a knight known as the \\\"Unbending Blade\\\" due to his skill. He se...\",\"Type: character\\u003cbr\\u003eText: ## Battle Characteristics\\n- As a Warrior, Olberic is a defensive and physical fighter. He wields swo...\",\"Type: character\\u003cbr\\u003eText: ```markdown\\n# Cyrus Albright - Octopath Traveler\\n\\n## General Information\\n- **Japanese Name:** サイラス・オ...\",\"Type: character\\u003cbr\\u003eText: **Chapter 2:**\\nCyrus seeks Odette's help in Quarrycrest and uncovers that Gideon has been kidnapping...\",\"Type: character\\u003cbr\\u003eText: ### Subjobs:\\n- Subjobs include various sprites and abilities from other classes when equipped, such ...\",\"Type: character\\u003cbr\\u003eText: ## H'aanit in Octopath Traveler\\n\\n- **Name:** H'aanit (Japanese: ハンイット, Romanized: Han'itto)\\n- **Gend...\",\"Type: character\\u003cbr\\u003eText: ### History\\n\\n#### Background\\n- One of the last descendants of a forest-dwelling clan\\n- Prowess with ...\",\"Type: character\\u003cbr\\u003eText: ### Strategy and Subjobs\\n- High physical attack, critical, and accuracy stats\\n- Suggested subjobs: W...\",\"Type: character\\u003cbr\\u003eText: # Throné Anguis Information from Octopath Traveler Wiki\\n\\n## General Information\\n- **Game:** Octopath...\",\"Type: character\\u003cbr\\u003eText: ## Abilities and Skills\\n### Thief Skills\\n- **Steal:** 2 SP\\n- **Darkest Night:** 7 SP, dark-based dam...\",\"Type: character\\u003cbr\\u003eText: ## Noteworthy Relationships\\n- Interactions with Osvald, Temenos, and Hikari reflect alignment with s...\",\"Type: character\\u003cbr\\u003eText: ## Osvald V. Vanstein Information from Octopath Traveler II\\n\\n### Basic Info\\n- **Japanese:** オズバルド・V・...\",\"Type: character\\u003cbr\\u003eText: ### Relationships\\n- **Rita Lumina:** Osvald's deceased wife.\\n- **Elena Vanstein:** Osvald's daughter...\",\"Type: page\\u003cbr\\u003eText: ```markdown\\n# Jobs in Octopath Traveler\\n\\n## Overview\\nJobs are a recurring game mechanic in Octopath ...\",\"Type: page\\u003cbr\\u003eText: ## Stat Bonuses\\n- **Max HP**: Up to +20%\\n- **Max SP**: Up to +20%\\n- **Phys. Atk.**: Up to +12%\\n- **P...\",\"Type: page\\u003cbr\\u003eText: ```markdown\\n## Side Stories in Octopath Traveler\\n\\n### Overview\\n- Side Stories are a game mechanic in...\",\"Type: page\\u003cbr\\u003eText: - **Theracio's Tutelage** (Parts I, II, III)\\n  - Prerequisites: Cyrus's Chapter 1 completed (Part I)...\",\"Type: page\\u003cbr\\u003eText: #### Riverlands\\n- **Kit, the Traveler** (Location: West Clearbrook Traverse)\\n  - Prerequisite: Only ...\",\"Type: page\\u003cbr\\u003eText: ```markdown\\n# Category: Octopath Traveler II Game Mechanics\\n\\n## Trending Pages\\n- Crossed Paths\\n\\n## A...\",\"Type: page\\u003cbr\\u003eText: ### Inventory in Octopath Traveler\\n\\nBased on the listed categories on the Octopath Traveler Wiki, th...\",\"Type: page\\u003cbr\\u003eText: ```markdown\\n# Jobs in Octopath Traveler II\\n\\n## Starting Jobs\\n- **Hunter**\\n  - Traveler: Ochette\\n  - ...\",\"Type: page\\u003cbr\\u003eText: ```markdown\\n# Category:Game Mechanics - Octopath Traveler\\n\\n## Trending Pages in Game Mechanics\\n\\n1. *...\",\"Type: page\\u003cbr\\u003eText: ```markdown\\n# Category: Bosses\\n\\n## Trending Pages\\n- Dreisang\\n- Balogar\\n- Winnehild\\n- Steorra\\n- Mánag...\",\"Type: page\\u003cbr\\u003eText: # Side Stories (Octopath Traveler II) Details\\n\\n## Overview\\n- Side Stories are recurring game mechani...\",\"Type: page\\u003cbr\\u003eText: ### Harborlands\\n1. **The Traveler's Bag** - Reward: (conditional rewards), Location: Western Canalbr...\",\"Type: page\\u003cbr\\u003eText: [Additional story details omitted for brevity...]\\n\\n### Leaflands\\n1. **The Traveler's Bag** - Reward:...\",\"Type: page\\u003cbr\\u003eText: # Category: Octopath Traveler II Bosses\\n\\n## Trending Pages (Examples of Bosses in Octopath Traveler ...\",\"Type: page\\u003cbr\\u003eText: ## Categories Related to Bosses\\n- **Octopath Traveler II Dual Boss Battles**\\n- **Octopath Traveler I...\",\"Type: page\\u003cbr\\u003eText: ```markdown\\n# Category: Octopath Traveler II Enemies\\n\\n## Trending Pages\\n- Deep One (Octopath Travele...\",\"Type: page\\u003cbr\\u003eText: ### Notable Categories\\n- City Ratkin\\n- City Ratking\\n- Clan Mei\\n- Elite Ku Soldier\\n- Dire Army Ant\\n\\n#...\",\"Type: page\\u003cbr\\u003eText: ```markdown\\n# Category: Inventory\\n\\n## Subcategories and Items\\n- **A**\\n  - **Accessories**\\n- **B**\\n  ...\",\"Type: page\\u003cbr\\u003eText: ```markdown\\n# Octopath Traveler II\\n\\n## General Information\\n- **Release Date**: February 24, 2023\\n- *...\",\"Type: page\\u003cbr\\u003eText: ## Story Overview\\n- The game features eight individual tales for each character, with story chapters...\",\"Type: page\\u003cbr\\u003eText: ```markdown\\n## Category: Enemies in Octopath Traveler\\n\\n### Trending Pages\\n- Winnehild\\n- Balogar\\n- Dr...\",\"Type: page\\u003cbr\\u003eText: ### Trivia\\n- Due to the high number of quadrupedal enemies, Hitomi Furuta influenced the design by i...\",\"Type: location\\u003cbr\\u003eText: # Crestlands\\n\\n## Overview\\n- The Crestlands is a region in \\\"Octopath Traveler II,\\\" located in the nor...\",\"Type: location\\u003cbr\\u003eText: 4. **Abandoned Church**\\n   - East of Montwise.\\n   - Related to Throné's Chapter 3, Danger Level: 31,...\",\"Type: location\\u003cbr\\u003eText: # Flatlands Information from Octopath Traveler Wiki\\n\\n## General Description\\n- **Flatlands** is a gra...\",\"Type: location\\u003cbr\\u003eText: 2. **Noblecourt**\\n   - Known for its past prominence, now facing decline.\\n   - Associated characters...\",\"Type: location\\u003cbr\\u003eText: ## Riverlands\\n\\n- **Region**: Verdant, river-filled area in southwestern Orsterra.\\n- **Towns**: \\n  - ...\",\"Type: location\\u003cbr\\u003eText: - **Field Locations**:\\n  - West Clearbrook Traverse\\n  - South Clearbrook Traverse\\n  - Path of Rhiyo\\n...\",\"Type: location\\u003cbr\\u003eText: ```markdown\\n# Highlands in Octopath Traveler\\n\\n## Overview\\n- The **Highlands** are a mountainous regi...\",\"Type: location\\u003cbr\\u003eText: ### Dungeons\\n- **Brigands' Den**: Roamed by brigands, boss fight with Gaston.\\n- **The Spectrewood**:...\",\"Type: location\\u003cbr\\u003eText: # Winterlands in Octopath Traveler II\\n\\n## General Description\\n- **Northern Solistia**: Known as a fr...\",\"Type: location\\u003cbr\\u003eText: - **Ruffians' Hideout**: A forest home to bandits with a danger level of 14. No associated boss.\\n\\n- ...\",\"Type: location\\u003cbr\\u003eText: ## Side Stories\\nIncludes stories like \\\"The Traveler's Bag\\\", \\\"The Baby's Coming\\\", \\\"Ruffians' Redoubt\\\"...\",\"Type: location\\u003cbr\\u003eText: ```markdown\\n# Hinoeuma\\n\\nHinoeuma is a region in southwestern Solistia, featured in Octopath Traveler...\",\"Type: location\\u003cbr\\u003eText: ## Unique Naming\\n- Hinoeuma, like Toto'haha, is uniquely named without \\\"lands\\\" in its title.\\n- Fast ...\",\"Type: location\\u003cbr\\u003eText: ## Side Stories\\nMultiple side stories and challenges can be encountered within the region, offering ...\",\"Type: location\\u003cbr\\u003eText: ```markdown\\n# Toto'haha\\n\\nToto'haha is one of the eight regions in the continent of Solistia featured...\",\"Type: location\\u003cbr\\u003eText: ## Side Stories\\n- Features various side stories such as \\\"The Traveler's Bag,\\\" \\\"Building Bridges,\\\" an...\",\"Type: location\\u003cbr\\u003eText: # Coastlands in Octopath Traveler\\n\\n## General Description\\n- **Location**: The Coastlands are a tropi...\",\"Type: location\\u003cbr\\u003eText: ## Shrines\\n- **Shrine of the Trader**: Located in the heart of the Coastlands.\\n\\n## Notable Field Loc...\",\"Type: location\\u003cbr\\u003eText: ## Solistia - Octopath Traveler II...\",\"Type: location\\u003cbr\\u003eText: - **Setting**: Solistia is the main setting for \\\"Octopath Traveler II\\\" and \\\"Octopath Traveler: Champ...\",\"Type: location\\u003cbr\\u003eText: ```markdown\\n# Brightlands\\n\\n## Overview\\n- **Location**: Eastern Solistia\\n- **Environment**: Urban reg...\",\"Type: location\\u003cbr\\u003eText: - **Abandoned Village**: \\n  - Formerly home to Eir's Apothecaries\\n  - Key story: Castti's Chapter 3\\n...\",\"Type: location\\u003cbr\\u003eText: ## References\\n- Yasunori Nishiki's musical notes for Brightlands\\n```...\",\"Type: location\\u003cbr\\u003eText: # Sunlands in Octopath Traveler\\n\\n## General Information\\n- **Region:** Sunlands is a desert region in...\",\"Type: location\\u003cbr\\u003eText: ### Dungeons\\n- **Sunshade Catacombs:** Connects Sunshade with the surrounding desert. (Boss: Helgeni...\",\"Type: location\\u003cbr\\u003eText: ## Trivia\\n- **Concept Design:** According to concept artist Naoki Ikushima, the design of the Sunlan...\",\"Type: location\\u003cbr\\u003eText: # Cliftlands in Octopath Traveler\\n\\n## Overview\\n- The Cliftlands are a rocky region in western Orster...\",\"Type: location\\u003cbr\\u003eText: ## Enemies\\n- **Common Enemies**: Cliff Birdian I-III, Eggling, Great Condor, Hatchling, Laughing Hya...\",\"Type: location\\u003cbr\\u003eText: **Harborlands**\\n\\n- **Region**: Harborlands is one of the eight regions situated on the continent of ...\",\"Type: location\\u003cbr\\u003eText: **Dungeons**:\\n- **Lair of the Usurper**: Dark grotto with treasures, danger level 16.\\n- **Cavern of ...\",\"Type: location\\u003cbr\\u003eText: # Orsterra Information\\n\\n## General Overview\\n- **Orsterra**: The continent where \\\"Octopath Traveler\\\" ...\",\"Type: location\\u003cbr\\u003eText: ## Regions and Towns\\n- **Regions** in Orsterra include:\\n  - Frostlands\\n  - Flatlands\\n  - Coastlands\\n...\",\"Type: location\\u003cbr\\u003eText: # Woodlands in Octopath Traveler\\n\\n## Description\\n- The Woodlands is a forested region in northwester...\",\"Type: location\\u003cbr\\u003eText: ## Local Fauna (Enemies)\\n- Forest Fox, Forest Ratkins (I, II, III), Gabbrodillo, Giant Boar, Majesti...\",\"Type: location\\u003cbr\\u003eText: # Frostlands\\n\\n## General Description\\nThe Frostlands are a snowbound region located in the northern p...\",\"Type: location\\u003cbr\\u003eText: ## Dungeons within Frostlands\\n- **Cave of Origin**: Contains the First Flame and guarded by the Guar...\",\"Type: location\\u003cbr\\u003eText: ## Gallery\\nArtwork is available, contributing to the understanding of the region's style and setting...\",\"Type: location\\u003cbr\\u003eText: ```markdown\\n# Leaflands\\n\\n## Overview\\nThe Leaflands is a region in the game *Octopath Traveler II*, c...\",\"Type: location\\u003cbr\\u003eText: ## Side Stories\\nSide stories within the Leaflands offer rewards to players, such as Experience Point...\",\"Type: location\\u003cbr\\u003eText: # Wildlands in Octopath Traveler II\\n\\n- **Geography**: Located in the northwest of Solistia. Characte...\",\"Type: location\\u003cbr\\u003eText: - **Pathways**: \\n  - Region touches upon the Harborlands (south), Leaflands (west), and Hinoeuma (so...\"],\"x\":[-4.8432426,-4.1307077,-4.909661,4.2141204,5.1069927,4.0157537,0.9595711,1.6942414,1.8313252,7.549457,7.2957487,6.395844,6.3097076,1.5073025,0.2189805,1.7059289,-1.2062482,-1.98461,-1.7134727,3.153014,2.7807467,3.536616,7.365514,6.476,5.847891,2.1713624,2.719681,3.9683175,4.272565,-2.813512,-2.291359,-2.3762147,1.034861,1.1258938,1.0704374,0.8889329,-1.2282128,-1.7904631,5.5027366,4.613888,5.3610106,-0.18957727,-1.114031,-0.06147207,2.9962614,3.287562,-4.7451673,-3.6308498,-5.473509,-6.1399946,-6.00591,-8.929605,-8.801167,-4.7563643,-9.390438,-9.509982,-5.361446,-5.033131,-4.785975,-7.1895013,-6.7848487,-8.18901,-7.959197,-9.249001,-0.06659502,-0.5519388,-8.706451,-2.5474427,1.3178605,2.8725977,2.390642,2.4775157,-2.694896,-3.4002783,-0.34581405,4.141061,1.466854,3.7258651,1.2597995,-1.7043575,-2.0895426,-2.7345777,-2.7886288,-2.951204,-2.2375138,-2.5270584,0.12323573,0.52049077,1.035337,1.9057335,0.90944207,4.0984287,4.6655664,4.7211018,0.3695403,0.3607199,-0.7395163,1.9792725,2.3910358,2.672511,-0.4091692,-0.53615016,2.4617875,4.554887,3.1480765,-1.8474228,-2.6280172,0.31596673,-1.6251556],\"y\":[-6.3305664,-6.6471133,-6.345561,-5.487929,-5.508888,-5.7791343,-12.598645,-12.85253,-12.826924,-8.213041,-8.290381,-2.5317008,-2.4068384,-7.454306,-7.4946856,-7.529297,-2.8835418,-3.5870938,-3.0438712,-10.006987,-9.522553,-9.58921,-5.831481,-5.8875966,-8.330896,-1.5381585,-0.48208392,-1.5432825,-7.9392285,-8.641209,-8.383508,-9.410605,-4.05402,-4.8294554,-4.9206443,-3.105582,-6.5124326,-5.9428244,-10.903212,-12.055107,-10.882499,-10.015119,-9.515552,-10.017083,-3.2980263,-3.457941,-2.2241578,-11.394158,3.1462526,6.3546686,6.3385487,-0.05028139,1.8193244,-2.1825297,-0.036237173,-1.6264168,3.0014799,8.487841,8.222985,-1.1139977,-0.48902285,-1.8230039,-2.8914404,1.2216171,0.031909145,0.18839383,-1.9036971,-0.7784112,7.074394,10.101895,7.5696354,7.970628,6.1344213,6.020223,7.0844088,10.9471655,5.2418084,10.168514,4.6153617,3.2098336,3.2615483,3.8151422,1.7474651,2.0417602,10.340885,10.629732,0.8340795,3.2854724,11.9212265,10.978318,13.136002,6.6703115,7.689721,5.76331,7.615944,8.332328,5.5464244,9.975449,3.0413694,3.2553263,9.362044,10.074822,5.5850697,9.419356,4.7978406,7.611886,8.193956,6.114415,8.515384],\"type\":\"scatter\"}],                        {\"template\":{\"data\":{\"histogram2dcontour\":[{\"type\":\"histogram2dcontour\",\"colorbar\":{\"outlinewidth\":0,\"ticks\":\"\"},\"colorscale\":[[0.0,\"#0d0887\"],[0.1111111111111111,\"#46039f\"],[0.2222222222222222,\"#7201a8\"],[0.3333333333333333,\"#9c179e\"],[0.4444444444444444,\"#bd3786\"],[0.5555555555555556,\"#d8576b\"],[0.6666666666666666,\"#ed7953\"],[0.7777777777777778,\"#fb9f3a\"],[0.8888888888888888,\"#fdca26\"],[1.0,\"#f0f921\"]]}],\"choropleth\":[{\"type\":\"choropleth\",\"colorbar\":{\"outlinewidth\":0,\"ticks\":\"\"}}],\"histogram2d\":[{\"type\":\"histogram2d\",\"colorbar\":{\"outlinewidth\":0,\"ticks\":\"\"},\"colorscale\":[[0.0,\"#0d0887\"],[0.1111111111111111,\"#46039f\"],[0.2222222222222222,\"#7201a8\"],[0.3333333333333333,\"#9c179e\"],[0.4444444444444444,\"#bd3786\"],[0.5555555555555556,\"#d8576b\"],[0.6666666666666666,\"#ed7953\"],[0.7777777777777778,\"#fb9f3a\"],[0.8888888888888888,\"#fdca26\"],[1.0,\"#f0f921\"]]}],\"heatmap\":[{\"type\":\"heatmap\",\"colorbar\":{\"outlinewidth\":0,\"ticks\":\"\"},\"colorscale\":[[0.0,\"#0d0887\"],[0.1111111111111111,\"#46039f\"],[0.2222222222222222,\"#7201a8\"],[0.3333333333333333,\"#9c179e\"],[0.4444444444444444,\"#bd3786\"],[0.5555555555555556,\"#d8576b\"],[0.6666666666666666,\"#ed7953\"],[0.7777777777777778,\"#fb9f3a\"],[0.8888888888888888,\"#fdca26\"],[1.0,\"#f0f921\"]]}],\"heatmapgl\":[{\"type\":\"heatmapgl\",\"colorbar\":{\"outlinewidth\":0,\"ticks\":\"\"},\"colorscale\":[[0.0,\"#0d0887\"],[0.1111111111111111,\"#46039f\"],[0.2222222222222222,\"#7201a8\"],[0.3333333333333333,\"#9c179e\"],[0.4444444444444444,\"#bd3786\"],[0.5555555555555556,\"#d8576b\"],[0.6666666666666666,\"#ed7953\"],[0.7777777777777778,\"#fb9f3a\"],[0.8888888888888888,\"#fdca26\"],[1.0,\"#f0f921\"]]}],\"contourcarpet\":[{\"type\":\"contourcarpet\",\"colorbar\":{\"outlinewidth\":0,\"ticks\":\"\"}}],\"contour\":[{\"type\":\"contour\",\"colorbar\":{\"outlinewidth\":0,\"ticks\":\"\"},\"colorscale\":[[0.0,\"#0d0887\"],[0.1111111111111111,\"#46039f\"],[0.2222222222222222,\"#7201a8\"],[0.3333333333333333,\"#9c179e\"],[0.4444444444444444,\"#bd3786\"],[0.5555555555555556,\"#d8576b\"],[0.6666666666666666,\"#ed7953\"],[0.7777777777777778,\"#fb9f3a\"],[0.8888888888888888,\"#fdca26\"],[1.0,\"#f0f921\"]]}],\"surface\":[{\"type\":\"surface\",\"colorbar\":{\"outlinewidth\":0,\"ticks\":\"\"},\"colorscale\":[[0.0,\"#0d0887\"],[0.1111111111111111,\"#46039f\"],[0.2222222222222222,\"#7201a8\"],[0.3333333333333333,\"#9c179e\"],[0.4444444444444444,\"#bd3786\"],[0.5555555555555556,\"#d8576b\"],[0.6666666666666666,\"#ed7953\"],[0.7777777777777778,\"#fb9f3a\"],[0.8888888888888888,\"#fdca26\"],[1.0,\"#f0f921\"]]}],\"mesh3d\":[{\"type\":\"mesh3d\",\"colorbar\":{\"outlinewidth\":0,\"ticks\":\"\"}}],\"scatter\":[{\"fillpattern\":{\"fillmode\":\"overlay\",\"size\":10,\"solidity\":0.2},\"type\":\"scatter\"}],\"parcoords\":[{\"type\":\"parcoords\",\"line\":{\"colorbar\":{\"outlinewidth\":0,\"ticks\":\"\"}}}],\"scatterpolargl\":[{\"type\":\"scatterpolargl\",\"marker\":{\"colorbar\":{\"outlinewidth\":0,\"ticks\":\"\"}}}],\"bar\":[{\"error_x\":{\"color\":\"#2a3f5f\"},\"error_y\":{\"color\":\"#2a3f5f\"},\"marker\":{\"line\":{\"color\":\"#E5ECF6\",\"width\":0.5},\"pattern\":{\"fillmode\":\"overlay\",\"size\":10,\"solidity\":0.2}},\"type\":\"bar\"}],\"scattergeo\":[{\"type\":\"scattergeo\",\"marker\":{\"colorbar\":{\"outlinewidth\":0,\"ticks\":\"\"}}}],\"scatterpolar\":[{\"type\":\"scatterpolar\",\"marker\":{\"colorbar\":{\"outlinewidth\":0,\"ticks\":\"\"}}}],\"histogram\":[{\"marker\":{\"pattern\":{\"fillmode\":\"overlay\",\"size\":10,\"solidity\":0.2}},\"type\":\"histogram\"}],\"scattergl\":[{\"type\":\"scattergl\",\"marker\":{\"colorbar\":{\"outlinewidth\":0,\"ticks\":\"\"}}}],\"scatter3d\":[{\"type\":\"scatter3d\",\"line\":{\"colorbar\":{\"outlinewidth\":0,\"ticks\":\"\"}},\"marker\":{\"colorbar\":{\"outlinewidth\":0,\"ticks\":\"\"}}}],\"scattermapbox\":[{\"type\":\"scattermapbox\",\"marker\":{\"colorbar\":{\"outlinewidth\":0,\"ticks\":\"\"}}}],\"scatterternary\":[{\"type\":\"scatterternary\",\"marker\":{\"colorbar\":{\"outlinewidth\":0,\"ticks\":\"\"}}}],\"scattercarpet\":[{\"type\":\"scattercarpet\",\"marker\":{\"colorbar\":{\"outlinewidth\":0,\"ticks\":\"\"}}}],\"carpet\":[{\"aaxis\":{\"endlinecolor\":\"#2a3f5f\",\"gridcolor\":\"white\",\"linecolor\":\"white\",\"minorgridcolor\":\"white\",\"startlinecolor\":\"#2a3f5f\"},\"baxis\":{\"endlinecolor\":\"#2a3f5f\",\"gridcolor\":\"white\",\"linecolor\":\"white\",\"minorgridcolor\":\"white\",\"startlinecolor\":\"#2a3f5f\"},\"type\":\"carpet\"}],\"table\":[{\"cells\":{\"fill\":{\"color\":\"#EBF0F8\"},\"line\":{\"color\":\"white\"}},\"header\":{\"fill\":{\"color\":\"#C8D4E3\"},\"line\":{\"color\":\"white\"}},\"type\":\"table\"}],\"barpolar\":[{\"marker\":{\"line\":{\"color\":\"#E5ECF6\",\"width\":0.5},\"pattern\":{\"fillmode\":\"overlay\",\"size\":10,\"solidity\":0.2}},\"type\":\"barpolar\"}],\"pie\":[{\"automargin\":true,\"type\":\"pie\"}]},\"layout\":{\"autotypenumbers\":\"strict\",\"colorway\":[\"#636efa\",\"#EF553B\",\"#00cc96\",\"#ab63fa\",\"#FFA15A\",\"#19d3f3\",\"#FF6692\",\"#B6E880\",\"#FF97FF\",\"#FECB52\"],\"font\":{\"color\":\"#2a3f5f\"},\"hovermode\":\"closest\",\"hoverlabel\":{\"align\":\"left\"},\"paper_bgcolor\":\"white\",\"plot_bgcolor\":\"#E5ECF6\",\"polar\":{\"bgcolor\":\"#E5ECF6\",\"angularaxis\":{\"gridcolor\":\"white\",\"linecolor\":\"white\",\"ticks\":\"\"},\"radialaxis\":{\"gridcolor\":\"white\",\"linecolor\":\"white\",\"ticks\":\"\"}},\"ternary\":{\"bgcolor\":\"#E5ECF6\",\"aaxis\":{\"gridcolor\":\"white\",\"linecolor\":\"white\",\"ticks\":\"\"},\"baxis\":{\"gridcolor\":\"white\",\"linecolor\":\"white\",\"ticks\":\"\"},\"caxis\":{\"gridcolor\":\"white\",\"linecolor\":\"white\",\"ticks\":\"\"}},\"coloraxis\":{\"colorbar\":{\"outlinewidth\":0,\"ticks\":\"\"}},\"colorscale\":{\"sequential\":[[0.0,\"#0d0887\"],[0.1111111111111111,\"#46039f\"],[0.2222222222222222,\"#7201a8\"],[0.3333333333333333,\"#9c179e\"],[0.4444444444444444,\"#bd3786\"],[0.5555555555555556,\"#d8576b\"],[0.6666666666666666,\"#ed7953\"],[0.7777777777777778,\"#fb9f3a\"],[0.8888888888888888,\"#fdca26\"],[1.0,\"#f0f921\"]],\"sequentialminus\":[[0.0,\"#0d0887\"],[0.1111111111111111,\"#46039f\"],[0.2222222222222222,\"#7201a8\"],[0.3333333333333333,\"#9c179e\"],[0.4444444444444444,\"#bd3786\"],[0.5555555555555556,\"#d8576b\"],[0.6666666666666666,\"#ed7953\"],[0.7777777777777778,\"#fb9f3a\"],[0.8888888888888888,\"#fdca26\"],[1.0,\"#f0f921\"]],\"diverging\":[[0,\"#8e0152\"],[0.1,\"#c51b7d\"],[0.2,\"#de77ae\"],[0.3,\"#f1b6da\"],[0.4,\"#fde0ef\"],[0.5,\"#f7f7f7\"],[0.6,\"#e6f5d0\"],[0.7,\"#b8e186\"],[0.8,\"#7fbc41\"],[0.9,\"#4d9221\"],[1,\"#276419\"]]},\"xaxis\":{\"gridcolor\":\"white\",\"linecolor\":\"white\",\"ticks\":\"\",\"title\":{\"standoff\":15},\"zerolinecolor\":\"white\",\"automargin\":true,\"zerolinewidth\":2},\"yaxis\":{\"gridcolor\":\"white\",\"linecolor\":\"white\",\"ticks\":\"\",\"title\":{\"standoff\":15},\"zerolinecolor\":\"white\",\"automargin\":true,\"zerolinewidth\":2},\"scene\":{\"xaxis\":{\"backgroundcolor\":\"#E5ECF6\",\"gridcolor\":\"white\",\"linecolor\":\"white\",\"showbackground\":true,\"ticks\":\"\",\"zerolinecolor\":\"white\",\"gridwidth\":2},\"yaxis\":{\"backgroundcolor\":\"#E5ECF6\",\"gridcolor\":\"white\",\"linecolor\":\"white\",\"showbackground\":true,\"ticks\":\"\",\"zerolinecolor\":\"white\",\"gridwidth\":2},\"zaxis\":{\"backgroundcolor\":\"#E5ECF6\",\"gridcolor\":\"white\",\"linecolor\":\"white\",\"showbackground\":true,\"ticks\":\"\",\"zerolinecolor\":\"white\",\"gridwidth\":2}},\"shapedefaults\":{\"line\":{\"color\":\"#2a3f5f\"}},\"annotationdefaults\":{\"arrowcolor\":\"#2a3f5f\",\"arrowhead\":0,\"arrowwidth\":1},\"geo\":{\"bgcolor\":\"white\",\"landcolor\":\"#E5ECF6\",\"subunitcolor\":\"white\",\"showland\":true,\"showlakes\":true,\"lakecolor\":\"white\"},\"title\":{\"x\":0.05},\"mapbox\":{\"style\":\"light\"}}},\"margin\":{\"r\":20,\"b\":10,\"l\":10,\"t\":40},\"title\":{\"text\":\"2D Vector Store Visualization\"},\"scene\":{\"xaxis\":{\"title\":{\"text\":\"x\"}},\"yaxis\":{\"title\":{\"text\":\"y\"}}},\"width\":800,\"height\":600},                        {\"responsive\": true}                    ).then(function(){\n",
              "                            \n",
              "var gd = document.getElementById('8270be3d-235e-4505-b514-9b03367fb89d');\n",
              "var x = new MutationObserver(function (mutations, observer) {{\n",
              "        var display = window.getComputedStyle(gd).display;\n",
              "        if (!display || display === 'none') {{\n",
              "            console.log([gd, 'removed!']);\n",
              "            Plotly.purge(gd);\n",
              "            observer.disconnect();\n",
              "        }}\n",
              "}});\n",
              "\n",
              "// Listen for the removal of the full notebook cells\n",
              "var notebookContainer = gd.closest('#notebook-container');\n",
              "if (notebookContainer) {{\n",
              "    x.observe(notebookContainer, {childList: true});\n",
              "}}\n",
              "\n",
              "// Listen for the clearing of the current output cell\n",
              "var outputEl = gd.closest('.output');\n",
              "if (outputEl) {{\n",
              "    x.observe(outputEl, {childList: true});\n",
              "}}\n",
              "\n",
              "                        })                };                            </script>        </div>\n",
              "</body>\n",
              "</html>"
            ]
          },
          "metadata": {},
          "output_type": "display_data"
        }
      ],
      "source": [
        "# visualize vectorstore in 2D\n",
        "\n",
        "tsne = TSNE(n_components=2, random_state=42)\n",
        "reduced_vectors = tsne.fit_transform(vectors)\n",
        "\n",
        "# Create the 2D scatter plot\n",
        "fig = go.Figure(data=[go.Scatter(\n",
        "    x=reduced_vectors[:, 0],\n",
        "    y=reduced_vectors[:, 1],\n",
        "    mode='markers',\n",
        "    marker=dict(size=5, color=colors, opacity=0.8),\n",
        "    text=[f\"Type: {t}<br>Text: {d[:100]}...\" for t, d in zip(doc_types, documents)],\n",
        "    hoverinfo='text'\n",
        ")])\n",
        "\n",
        "fig.update_layout(\n",
        "    title='2D Vector Store Visualization',\n",
        "    scene=dict(xaxis_title='x',yaxis_title='y'),\n",
        "    width=800,\n",
        "    height=600,\n",
        "    margin=dict(r=20, b=10, l=10, t=40)\n",
        ")\n",
        "\n",
        "fig.show()"
      ]
    },
    {
      "cell_type": "code",
      "execution_count": 32,
      "metadata": {
        "colab": {
          "base_uri": "https://localhost:8080/",
          "height": 737
        },
        "id": "k7eTI7u5iggK",
        "outputId": "9497dae6-5c78-46fc-dd9e-09306fd3ef5c"
      },
      "outputs": [
        {
          "data": {
            "text/html": [
              "<html>\n",
              "<head><meta charset=\"utf-8\" /></head>\n",
              "<body>\n",
              "    <div>            <script src=\"https://cdnjs.cloudflare.com/ajax/libs/mathjax/2.7.5/MathJax.js?config=TeX-AMS-MML_SVG\"></script><script type=\"text/javascript\">if (window.MathJax && window.MathJax.Hub && window.MathJax.Hub.Config) {window.MathJax.Hub.Config({SVG: {font: \"STIX-Web\"}});}</script>                <script type=\"text/javascript\">window.PlotlyConfig = {MathJaxConfig: 'local'};</script>\n",
              "        <script charset=\"utf-8\" src=\"https://cdn.plot.ly/plotly-2.35.2.min.js\"></script>                <div id=\"ca877b9e-75a7-47cb-9942-7222f4afea38\" class=\"plotly-graph-div\" style=\"height:700px; width:900px;\"></div>            <script type=\"text/javascript\">                                    window.PLOTLYENV=window.PLOTLYENV || {};                                    if (document.getElementById(\"ca877b9e-75a7-47cb-9942-7222f4afea38\")) {                    Plotly.newPlot(                        \"ca877b9e-75a7-47cb-9942-7222f4afea38\",                        [{\"hoverinfo\":\"text\",\"marker\":{\"color\":[\"slateblue\",\"slateblue\",\"slateblue\",\"slateblue\",\"slateblue\",\"slateblue\",\"slateblue\",\"slateblue\",\"slateblue\",\"slateblue\",\"slateblue\",\"slateblue\",\"slateblue\",\"slateblue\",\"slateblue\",\"slateblue\",\"slateblue\",\"slateblue\",\"slateblue\",\"slateblue\",\"slateblue\",\"slateblue\",\"slateblue\",\"slateblue\",\"slateblue\",\"slateblue\",\"slateblue\",\"slateblue\",\"slateblue\",\"slateblue\",\"slateblue\",\"slateblue\",\"slateblue\",\"slateblue\",\"slateblue\",\"slateblue\",\"slateblue\",\"slateblue\",\"slateblue\",\"slateblue\",\"slateblue\",\"slateblue\",\"slateblue\",\"slateblue\",\"slateblue\",\"slateblue\",\"mediumblue\",\"mediumblue\",\"mediumblue\",\"mediumblue\",\"mediumblue\",\"mediumblue\",\"mediumblue\",\"mediumblue\",\"mediumblue\",\"mediumblue\",\"mediumblue\",\"mediumblue\",\"mediumblue\",\"mediumblue\",\"mediumblue\",\"mediumblue\",\"mediumblue\",\"mediumblue\",\"mediumblue\",\"mediumblue\",\"mediumblue\",\"mediumblue\",\"lightblue\",\"lightblue\",\"lightblue\",\"lightblue\",\"lightblue\",\"lightblue\",\"lightblue\",\"lightblue\",\"lightblue\",\"lightblue\",\"lightblue\",\"lightblue\",\"lightblue\",\"lightblue\",\"lightblue\",\"lightblue\",\"lightblue\",\"lightblue\",\"lightblue\",\"lightblue\",\"lightblue\",\"lightblue\",\"lightblue\",\"lightblue\",\"lightblue\",\"lightblue\",\"lightblue\",\"lightblue\",\"lightblue\",\"lightblue\",\"lightblue\",\"lightblue\",\"lightblue\",\"lightblue\",\"lightblue\",\"lightblue\",\"lightblue\",\"lightblue\",\"lightblue\",\"lightblue\",\"lightblue\"],\"opacity\":0.8,\"size\":5},\"mode\":\"markers\",\"text\":[\"Type: character\\u003cbr\\u003eText: # Temenos Mistral Information from Octopath Traveler\\n\\n## Overview\\nTemenos Mistral is a character fro...\",\"Type: character\\u003cbr\\u003eText: ## History\\n- **Before the Story:** Temenos and Roi were foundlings adopted by Pontiff Jörg. They bot...\",\"Type: character\\u003cbr\\u003eText: ## Quotes\\nTemenos has a range of quotes reflecting his personality and actions in the game, often sh...\",\"Type: character\\u003cbr\\u003eText: # Ophilia Clement - Octopath Traveler\\n\\n## Basic Information\\n- **Japanese Name:** オフィーリア・クレメント (Ofiri...\",\"Type: character\\u003cbr\\u003eText: ## Story\\n\\n### Prior to the Story\\n- Orphaned 15 years before the game's events due to a war.\\n- Adopte...\",\"Type: character\\u003cbr\\u003eText: ## Battle\\n\\n### Skills\\n- **Cleric Skills:**\\n  - Heal, buff, and light-element spells.\\n  - Central to ...\",\"Type: character\\u003cbr\\u003eText: # Agnea Bristarni in Octopath Traveler II\\n\\n## Basic Information\\n- Japanese: アグネア・ブリスターニ (Romanized: ...\",\"Type: character\\u003cbr\\u003eText: ### Personality\\nAgnea is characterized by her cheerful and optimistic demeanor. She is compassionate...\",\"Type: character\\u003cbr\\u003eText: ### Support Skills\\n- **The Show Goes On:** Extends duration of effects.\\n- **Ever Evasive:** Increase...\",\"Type: character\\u003cbr\\u003eText: # Castti Florenz\\n\\n### General Information\\n- **Gender**: Female\\n- **Age**: 29\\n- **Status**: Alive\\n- *...\",\"Type: character\\u003cbr\\u003eText: ### Skill Set\\n- **Apothecary Talent**: Concoct allows using materials to create compounds with varyi...\",\"Type: character\\u003cbr\\u003eText: ```markdown\\n# Tressa Colzione\\n\\n## General Information\\n- **Gender:** Female\\n- **Age:** 18\\n- **Status:...\",\"Type: character\\u003cbr\\u003eText: ### Chapter 1\\nIn Rippletide, Tressa meets Captain Leon and helps retrieve stolen goods from pirates,...\",\"Type: character\\u003cbr\\u003eText: ```markdown\\n# Primrose Azelhart\\n\\n## Information\\n- **Japanese:** プリムロゼ・エゼルアート\\n- **Romanized:** Purimu...\",\"Type: character\\u003cbr\\u003eText: ### History\\n#### Prior to Story\\nTen years prior, Primrose witnessed her father’s murder by three men...\",\"Type: character\\u003cbr\\u003eText: ### Support Skills\\n- Recommended skills include `Inner Strength`, `Saving Grace`, `Elemental Augment...\",\"Type: character\\u003cbr\\u003eText: # Hikari Ku in Octopath Traveler II\\n\\n## Basic Information\\n- **Name**: Hikari Ku\\n- **Gender**: Male\\n-...\",\"Type: character\\u003cbr\\u003eText: 2. **Chapter 2**:\\n   - Hikari requests help from Kazan, eventually becoming involved in arena battle...\",\"Type: character\\u003cbr\\u003eText: ## Special Notes\\n- Known for learning skills from defeated opponents and using them effectively in c...\",\"Type: character\\u003cbr\\u003eText: ## Ochette Information\\n\\n- **Japanese**: オーシュット\\n- **Romanized**: Ōshutto\\n- **Gender**: Female\\n- **Age...\",\"Type: character\\u003cbr\\u003eText: ### History\\n- **Prior to Story**: Trained as a hunter by Master Juvah after he heard a premonition r...\",\"Type: character\\u003cbr\\u003eText: ### Latent Power: Animal Instincts\\n- Special skills without SP consumption including powerful attack...\",\"Type: character\\u003cbr\\u003eText: # Alfyn Greengrass\\n\\n## General Information\\n- **Name:** Alfyn Greengrass\\n- **Japanese Name:** アーフェン・グ...\",\"Type: character\\u003cbr\\u003eText: ## Story\\n\\n### History\\n- **Childhood:** Saved by a traveling apothecary from a plague, sparking his a...\",\"Type: character\\u003cbr\\u003eText: ### Support Skills\\n- **Inspiration, Hale and Hearty, Resist Ailments, Heightened Healing**\\n\\n- **Uniq...\",\"Type: character\\u003cbr\\u003eText: # Partitio Yellowil\\n\\n## General Information\\n- **Game:** Octopath Traveler II\\n- **Japanese Name:** パル...\",\"Type: character\\u003cbr\\u003eText: ## History\\n\\n### Prior to Story\\n- Sixteen years prior, involved in establishing Oresrush with his fat...\",\"Type: character\\u003cbr\\u003eText: #### Crossed Paths with Osvald\\n- Partitio joins with Osvald to assist Regulus with his telescope inv...\",\"Type: character\\u003cbr\\u003eText: ### Support Skills\\n- **Grows on Trees, Boost-Start, Hang Tough, Full Power.**\\n\\n### EX Skills\\n- **Neg...\",\"Type: character\\u003cbr\\u003eText: ```markdown\\n# Therion\\n\\n## Information\\n- **Name:** Therion\\n- **Japanese:** テリオン\\n- **Romanized:** Teri...\",\"Type: character\\u003cbr\\u003eText: ## History\\n\\n### Prior to Story\\nTen years before the story, Therion was captured and imprisoned but e...\",\"Type: character\\u003cbr\\u003eText: ## Battle\\n\\n### Thief Skills\\n- **Steal:** SP 2\\n- **Wildfire:** SP 7\\n- **HP Thief:** SP 6\\n- **Shackle ...\",\"Type: character\\u003cbr\\u003eText: # Olberic Eisenberg - Octopath Traveler Wiki\\n\\n## General Information\\n- Name: Olberic Eisenberg\\n- Jap...\",\"Type: character\\u003cbr\\u003eText: ## Historical Background\\nOlberic was a knight known as the \\\"Unbending Blade\\\" due to his skill. He se...\",\"Type: character\\u003cbr\\u003eText: ## Battle Characteristics\\n- As a Warrior, Olberic is a defensive and physical fighter. He wields swo...\",\"Type: character\\u003cbr\\u003eText: ```markdown\\n# Cyrus Albright - Octopath Traveler\\n\\n## General Information\\n- **Japanese Name:** サイラス・オ...\",\"Type: character\\u003cbr\\u003eText: **Chapter 2:**\\nCyrus seeks Odette's help in Quarrycrest and uncovers that Gideon has been kidnapping...\",\"Type: character\\u003cbr\\u003eText: ### Subjobs:\\n- Subjobs include various sprites and abilities from other classes when equipped, such ...\",\"Type: character\\u003cbr\\u003eText: ## H'aanit in Octopath Traveler\\n\\n- **Name:** H'aanit (Japanese: ハンイット, Romanized: Han'itto)\\n- **Gend...\",\"Type: character\\u003cbr\\u003eText: ### History\\n\\n#### Background\\n- One of the last descendants of a forest-dwelling clan\\n- Prowess with ...\",\"Type: character\\u003cbr\\u003eText: ### Strategy and Subjobs\\n- High physical attack, critical, and accuracy stats\\n- Suggested subjobs: W...\",\"Type: character\\u003cbr\\u003eText: # Throné Anguis Information from Octopath Traveler Wiki\\n\\n## General Information\\n- **Game:** Octopath...\",\"Type: character\\u003cbr\\u003eText: ## Abilities and Skills\\n### Thief Skills\\n- **Steal:** 2 SP\\n- **Darkest Night:** 7 SP, dark-based dam...\",\"Type: character\\u003cbr\\u003eText: ## Noteworthy Relationships\\n- Interactions with Osvald, Temenos, and Hikari reflect alignment with s...\",\"Type: character\\u003cbr\\u003eText: ## Osvald V. Vanstein Information from Octopath Traveler II\\n\\n### Basic Info\\n- **Japanese:** オズバルド・V・...\",\"Type: character\\u003cbr\\u003eText: ### Relationships\\n- **Rita Lumina:** Osvald's deceased wife.\\n- **Elena Vanstein:** Osvald's daughter...\",\"Type: page\\u003cbr\\u003eText: ```markdown\\n# Jobs in Octopath Traveler\\n\\n## Overview\\nJobs are a recurring game mechanic in Octopath ...\",\"Type: page\\u003cbr\\u003eText: ## Stat Bonuses\\n- **Max HP**: Up to +20%\\n- **Max SP**: Up to +20%\\n- **Phys. Atk.**: Up to +12%\\n- **P...\",\"Type: page\\u003cbr\\u003eText: ```markdown\\n## Side Stories in Octopath Traveler\\n\\n### Overview\\n- Side Stories are a game mechanic in...\",\"Type: page\\u003cbr\\u003eText: - **Theracio's Tutelage** (Parts I, II, III)\\n  - Prerequisites: Cyrus's Chapter 1 completed (Part I)...\",\"Type: page\\u003cbr\\u003eText: #### Riverlands\\n- **Kit, the Traveler** (Location: West Clearbrook Traverse)\\n  - Prerequisite: Only ...\",\"Type: page\\u003cbr\\u003eText: ```markdown\\n# Category: Octopath Traveler II Game Mechanics\\n\\n## Trending Pages\\n- Crossed Paths\\n\\n## A...\",\"Type: page\\u003cbr\\u003eText: ### Inventory in Octopath Traveler\\n\\nBased on the listed categories on the Octopath Traveler Wiki, th...\",\"Type: page\\u003cbr\\u003eText: ```markdown\\n# Jobs in Octopath Traveler II\\n\\n## Starting Jobs\\n- **Hunter**\\n  - Traveler: Ochette\\n  - ...\",\"Type: page\\u003cbr\\u003eText: ```markdown\\n# Category:Game Mechanics - Octopath Traveler\\n\\n## Trending Pages in Game Mechanics\\n\\n1. *...\",\"Type: page\\u003cbr\\u003eText: ```markdown\\n# Category: Bosses\\n\\n## Trending Pages\\n- Dreisang\\n- Balogar\\n- Winnehild\\n- Steorra\\n- Mánag...\",\"Type: page\\u003cbr\\u003eText: # Side Stories (Octopath Traveler II) Details\\n\\n## Overview\\n- Side Stories are recurring game mechani...\",\"Type: page\\u003cbr\\u003eText: ### Harborlands\\n1. **The Traveler's Bag** - Reward: (conditional rewards), Location: Western Canalbr...\",\"Type: page\\u003cbr\\u003eText: [Additional story details omitted for brevity...]\\n\\n### Leaflands\\n1. **The Traveler's Bag** - Reward:...\",\"Type: page\\u003cbr\\u003eText: # Category: Octopath Traveler II Bosses\\n\\n## Trending Pages (Examples of Bosses in Octopath Traveler ...\",\"Type: page\\u003cbr\\u003eText: ## Categories Related to Bosses\\n- **Octopath Traveler II Dual Boss Battles**\\n- **Octopath Traveler I...\",\"Type: page\\u003cbr\\u003eText: ```markdown\\n# Category: Octopath Traveler II Enemies\\n\\n## Trending Pages\\n- Deep One (Octopath Travele...\",\"Type: page\\u003cbr\\u003eText: ### Notable Categories\\n- City Ratkin\\n- City Ratking\\n- Clan Mei\\n- Elite Ku Soldier\\n- Dire Army Ant\\n\\n#...\",\"Type: page\\u003cbr\\u003eText: ```markdown\\n# Category: Inventory\\n\\n## Subcategories and Items\\n- **A**\\n  - **Accessories**\\n- **B**\\n  ...\",\"Type: page\\u003cbr\\u003eText: ```markdown\\n# Octopath Traveler II\\n\\n## General Information\\n- **Release Date**: February 24, 2023\\n- *...\",\"Type: page\\u003cbr\\u003eText: ## Story Overview\\n- The game features eight individual tales for each character, with story chapters...\",\"Type: page\\u003cbr\\u003eText: ```markdown\\n## Category: Enemies in Octopath Traveler\\n\\n### Trending Pages\\n- Winnehild\\n- Balogar\\n- Dr...\",\"Type: page\\u003cbr\\u003eText: ### Trivia\\n- Due to the high number of quadrupedal enemies, Hitomi Furuta influenced the design by i...\",\"Type: location\\u003cbr\\u003eText: # Crestlands\\n\\n## Overview\\n- The Crestlands is a region in \\\"Octopath Traveler II,\\\" located in the nor...\",\"Type: location\\u003cbr\\u003eText: 4. **Abandoned Church**\\n   - East of Montwise.\\n   - Related to Throné's Chapter 3, Danger Level: 31,...\",\"Type: location\\u003cbr\\u003eText: # Flatlands Information from Octopath Traveler Wiki\\n\\n## General Description\\n- **Flatlands** is a gra...\",\"Type: location\\u003cbr\\u003eText: 2. **Noblecourt**\\n   - Known for its past prominence, now facing decline.\\n   - Associated characters...\",\"Type: location\\u003cbr\\u003eText: ## Riverlands\\n\\n- **Region**: Verdant, river-filled area in southwestern Orsterra.\\n- **Towns**: \\n  - ...\",\"Type: location\\u003cbr\\u003eText: - **Field Locations**:\\n  - West Clearbrook Traverse\\n  - South Clearbrook Traverse\\n  - Path of Rhiyo\\n...\",\"Type: location\\u003cbr\\u003eText: ```markdown\\n# Highlands in Octopath Traveler\\n\\n## Overview\\n- The **Highlands** are a mountainous regi...\",\"Type: location\\u003cbr\\u003eText: ### Dungeons\\n- **Brigands' Den**: Roamed by brigands, boss fight with Gaston.\\n- **The Spectrewood**:...\",\"Type: location\\u003cbr\\u003eText: # Winterlands in Octopath Traveler II\\n\\n## General Description\\n- **Northern Solistia**: Known as a fr...\",\"Type: location\\u003cbr\\u003eText: - **Ruffians' Hideout**: A forest home to bandits with a danger level of 14. No associated boss.\\n\\n- ...\",\"Type: location\\u003cbr\\u003eText: ## Side Stories\\nIncludes stories like \\\"The Traveler's Bag\\\", \\\"The Baby's Coming\\\", \\\"Ruffians' Redoubt\\\"...\",\"Type: location\\u003cbr\\u003eText: ```markdown\\n# Hinoeuma\\n\\nHinoeuma is a region in southwestern Solistia, featured in Octopath Traveler...\",\"Type: location\\u003cbr\\u003eText: ## Unique Naming\\n- Hinoeuma, like Toto'haha, is uniquely named without \\\"lands\\\" in its title.\\n- Fast ...\",\"Type: location\\u003cbr\\u003eText: ## Side Stories\\nMultiple side stories and challenges can be encountered within the region, offering ...\",\"Type: location\\u003cbr\\u003eText: ```markdown\\n# Toto'haha\\n\\nToto'haha is one of the eight regions in the continent of Solistia featured...\",\"Type: location\\u003cbr\\u003eText: ## Side Stories\\n- Features various side stories such as \\\"The Traveler's Bag,\\\" \\\"Building Bridges,\\\" an...\",\"Type: location\\u003cbr\\u003eText: # Coastlands in Octopath Traveler\\n\\n## General Description\\n- **Location**: The Coastlands are a tropi...\",\"Type: location\\u003cbr\\u003eText: ## Shrines\\n- **Shrine of the Trader**: Located in the heart of the Coastlands.\\n\\n## Notable Field Loc...\",\"Type: location\\u003cbr\\u003eText: ## Solistia - Octopath Traveler II...\",\"Type: location\\u003cbr\\u003eText: - **Setting**: Solistia is the main setting for \\\"Octopath Traveler II\\\" and \\\"Octopath Traveler: Champ...\",\"Type: location\\u003cbr\\u003eText: ```markdown\\n# Brightlands\\n\\n## Overview\\n- **Location**: Eastern Solistia\\n- **Environment**: Urban reg...\",\"Type: location\\u003cbr\\u003eText: - **Abandoned Village**: \\n  - Formerly home to Eir's Apothecaries\\n  - Key story: Castti's Chapter 3\\n...\",\"Type: location\\u003cbr\\u003eText: ## References\\n- Yasunori Nishiki's musical notes for Brightlands\\n```...\",\"Type: location\\u003cbr\\u003eText: # Sunlands in Octopath Traveler\\n\\n## General Information\\n- **Region:** Sunlands is a desert region in...\",\"Type: location\\u003cbr\\u003eText: ### Dungeons\\n- **Sunshade Catacombs:** Connects Sunshade with the surrounding desert. (Boss: Helgeni...\",\"Type: location\\u003cbr\\u003eText: ## Trivia\\n- **Concept Design:** According to concept artist Naoki Ikushima, the design of the Sunlan...\",\"Type: location\\u003cbr\\u003eText: # Cliftlands in Octopath Traveler\\n\\n## Overview\\n- The Cliftlands are a rocky region in western Orster...\",\"Type: location\\u003cbr\\u003eText: ## Enemies\\n- **Common Enemies**: Cliff Birdian I-III, Eggling, Great Condor, Hatchling, Laughing Hya...\",\"Type: location\\u003cbr\\u003eText: **Harborlands**\\n\\n- **Region**: Harborlands is one of the eight regions situated on the continent of ...\",\"Type: location\\u003cbr\\u003eText: **Dungeons**:\\n- **Lair of the Usurper**: Dark grotto with treasures, danger level 16.\\n- **Cavern of ...\",\"Type: location\\u003cbr\\u003eText: # Orsterra Information\\n\\n## General Overview\\n- **Orsterra**: The continent where \\\"Octopath Traveler\\\" ...\",\"Type: location\\u003cbr\\u003eText: ## Regions and Towns\\n- **Regions** in Orsterra include:\\n  - Frostlands\\n  - Flatlands\\n  - Coastlands\\n...\",\"Type: location\\u003cbr\\u003eText: # Woodlands in Octopath Traveler\\n\\n## Description\\n- The Woodlands is a forested region in northwester...\",\"Type: location\\u003cbr\\u003eText: ## Local Fauna (Enemies)\\n- Forest Fox, Forest Ratkins (I, II, III), Gabbrodillo, Giant Boar, Majesti...\",\"Type: location\\u003cbr\\u003eText: # Frostlands\\n\\n## General Description\\nThe Frostlands are a snowbound region located in the northern p...\",\"Type: location\\u003cbr\\u003eText: ## Dungeons within Frostlands\\n- **Cave of Origin**: Contains the First Flame and guarded by the Guar...\",\"Type: location\\u003cbr\\u003eText: ## Gallery\\nArtwork is available, contributing to the understanding of the region's style and setting...\",\"Type: location\\u003cbr\\u003eText: ```markdown\\n# Leaflands\\n\\n## Overview\\nThe Leaflands is a region in the game *Octopath Traveler II*, c...\",\"Type: location\\u003cbr\\u003eText: ## Side Stories\\nSide stories within the Leaflands offer rewards to players, such as Experience Point...\",\"Type: location\\u003cbr\\u003eText: # Wildlands in Octopath Traveler II\\n\\n- **Geography**: Located in the northwest of Solistia. Characte...\",\"Type: location\\u003cbr\\u003eText: - **Pathways**: \\n  - Region touches upon the Harborlands (south), Leaflands (west), and Hinoeuma (so...\"],\"x\":[25.414766,-3.8087995,18.649555,30.133062,36.36225,11.25242,70.35828,76.968155,97.10653,-100.91082,-110.82003,14.408491,11.470052,-24.597141,-0.91600376,-1.4600067,94.15308,55.06374,-31.758116,58.49424,35.397236,57.433273,36.817932,-5.977701,-111.49977,-63.760265,54.2792,63.261475,72.72898,-58.912865,-66.6764,-42.086166,18.735836,45.293533,-11.632054,-21.848211,2.1856437,-16.349653,-15.097877,52.2009,45.414066,22.213459,29.692087,0.5321755,57.51018,46.705196,65.50855,84.72523,-22.86242,13.687646,11.884529,-67.91955,-101.19664,51.532925,-50.351166,-73.6459,-67.352425,-19.527298,-45.746582,-40.434116,-77.44132,-89.01503,-7.1970024,-81.01681,0.24410528,1.2707639,-18.206585,108.37691,20.469526,64.81282,-70.2745,-72.836586,-17.675331,-17.91351,29.923397,-79.14051,84.73704,-54.197563,-5.7186427,109.49884,102.98586,105.57531,55.890358,-29.01611,-12.997162,-34.741554,9.906502,-2.2754636,26.69463,5.812695,36.216526,-3.7108915,-44.801716,-49.41683,-40.083584,-33.596905,-5.563363,-23.913118,-40.37062,38.10348,57.60452,70.18767,-5.074878,-34.447155,27.46913,-59.533047,-69.46199,20.648443,-34.450428],\"y\":[-16.945705,59.227802,-1.2013216,27.44319,19.021475,11.338546,73.88379,70.04196,61.10443,-29.687748,-11.376253,23.544453,34.237537,21.121872,45.285007,10.9838505,-44.0668,-15.565803,26.32196,-30.619501,-11.265651,-7.1901217,88.827324,41.605457,16.332722,-31.545765,21.083822,25.707523,25.585194,96.14426,69.27119,71.00885,78.23195,38.08334,78.84356,93.37386,97.87757,116.36629,33.447548,104.52554,102.408806,68.398346,61.08423,57.161247,65.11237,59.25988,-70.87958,23.011364,-8.769764,-7.8169193,2.851634,12.244744,37.24004,-65.32814,24.671946,4.17735,33.84152,-14.519701,-16.889088,-31.593039,20.254768,-16.47925,-48.839687,41.949417,96.67596,-62.754684,76.37764,43.076546,-102.531494,22.508778,-9.829833,-36.568512,-24.528706,-1.438979,-63.898956,-12.738397,-24.750816,-89.65604,-39.998016,-7.24481,-2.6607497,-32.406513,-27.854776,-18.45184,-85.60269,-75.72513,-90.821815,-76.88059,-59.319447,-39.619053,-69.17478,129.23575,-62.38843,66.79778,-49.213387,20.883942,-78.972626,-51.63035,82.18831,-25.324892,-90.38634,-87.97889,-45.6617,-109.520035,-48.301018,-78.76838,-91.41127,-102.41272,-100.025116],\"z\":[92.87899,-16.938347,112.05858,16.72812,45.774185,25.30981,37.7295,8.428503,23.074917,-2.5229895,10.831768,-20.391527,-43.415504,71.30696,62.371155,64.716515,34.820095,-37.248306,23.534819,3.9903245,-1.8794125,19.107344,81.649055,-91.81386,29.255657,-28.494501,-60.10707,-19.598381,16.856934,-15.720782,-10.637126,-29.672567,-65.27084,88.894394,-66.78904,4.4648743,-21.604433,-36.272896,111.784676,-23.939093,10.09075,14.984908,44.35013,21.199232,-52.03127,-29.86892,-51.218258,59.087223,-37.861614,-50.758987,-74.049416,-48.067028,-41.89776,-70.5475,-64.28189,-88.68456,50.960625,6.5445666,6.078266,100.40798,-8.183621,-62.536797,-117.73262,-62.570415,45.241413,-67.17052,96.92912,-32.305294,31.739944,-104.75197,43.5577,42.84077,-83.2095,-98.09684,4.9498396,88.38875,-61.521282,-46.48383,-22.645397,14.256884,-11.331978,-14.78849,59.77809,51.831707,51.735157,64.365295,-56.473396,-23.668123,45.627655,30.151484,76.700584,16.957306,-9.882642,26.71622,-58.814453,-17.758806,12.845287,22.891567,61.107025,-95.5645,3.228491,29.678389,71.82796,-24.691574,-33.791206,31.852623,7.9166145,-7.79375,18.303862],\"type\":\"scatter3d\"}],                        {\"template\":{\"data\":{\"histogram2dcontour\":[{\"type\":\"histogram2dcontour\",\"colorbar\":{\"outlinewidth\":0,\"ticks\":\"\"},\"colorscale\":[[0.0,\"#0d0887\"],[0.1111111111111111,\"#46039f\"],[0.2222222222222222,\"#7201a8\"],[0.3333333333333333,\"#9c179e\"],[0.4444444444444444,\"#bd3786\"],[0.5555555555555556,\"#d8576b\"],[0.6666666666666666,\"#ed7953\"],[0.7777777777777778,\"#fb9f3a\"],[0.8888888888888888,\"#fdca26\"],[1.0,\"#f0f921\"]]}],\"choropleth\":[{\"type\":\"choropleth\",\"colorbar\":{\"outlinewidth\":0,\"ticks\":\"\"}}],\"histogram2d\":[{\"type\":\"histogram2d\",\"colorbar\":{\"outlinewidth\":0,\"ticks\":\"\"},\"colorscale\":[[0.0,\"#0d0887\"],[0.1111111111111111,\"#46039f\"],[0.2222222222222222,\"#7201a8\"],[0.3333333333333333,\"#9c179e\"],[0.4444444444444444,\"#bd3786\"],[0.5555555555555556,\"#d8576b\"],[0.6666666666666666,\"#ed7953\"],[0.7777777777777778,\"#fb9f3a\"],[0.8888888888888888,\"#fdca26\"],[1.0,\"#f0f921\"]]}],\"heatmap\":[{\"type\":\"heatmap\",\"colorbar\":{\"outlinewidth\":0,\"ticks\":\"\"},\"colorscale\":[[0.0,\"#0d0887\"],[0.1111111111111111,\"#46039f\"],[0.2222222222222222,\"#7201a8\"],[0.3333333333333333,\"#9c179e\"],[0.4444444444444444,\"#bd3786\"],[0.5555555555555556,\"#d8576b\"],[0.6666666666666666,\"#ed7953\"],[0.7777777777777778,\"#fb9f3a\"],[0.8888888888888888,\"#fdca26\"],[1.0,\"#f0f921\"]]}],\"heatmapgl\":[{\"type\":\"heatmapgl\",\"colorbar\":{\"outlinewidth\":0,\"ticks\":\"\"},\"colorscale\":[[0.0,\"#0d0887\"],[0.1111111111111111,\"#46039f\"],[0.2222222222222222,\"#7201a8\"],[0.3333333333333333,\"#9c179e\"],[0.4444444444444444,\"#bd3786\"],[0.5555555555555556,\"#d8576b\"],[0.6666666666666666,\"#ed7953\"],[0.7777777777777778,\"#fb9f3a\"],[0.8888888888888888,\"#fdca26\"],[1.0,\"#f0f921\"]]}],\"contourcarpet\":[{\"type\":\"contourcarpet\",\"colorbar\":{\"outlinewidth\":0,\"ticks\":\"\"}}],\"contour\":[{\"type\":\"contour\",\"colorbar\":{\"outlinewidth\":0,\"ticks\":\"\"},\"colorscale\":[[0.0,\"#0d0887\"],[0.1111111111111111,\"#46039f\"],[0.2222222222222222,\"#7201a8\"],[0.3333333333333333,\"#9c179e\"],[0.4444444444444444,\"#bd3786\"],[0.5555555555555556,\"#d8576b\"],[0.6666666666666666,\"#ed7953\"],[0.7777777777777778,\"#fb9f3a\"],[0.8888888888888888,\"#fdca26\"],[1.0,\"#f0f921\"]]}],\"surface\":[{\"type\":\"surface\",\"colorbar\":{\"outlinewidth\":0,\"ticks\":\"\"},\"colorscale\":[[0.0,\"#0d0887\"],[0.1111111111111111,\"#46039f\"],[0.2222222222222222,\"#7201a8\"],[0.3333333333333333,\"#9c179e\"],[0.4444444444444444,\"#bd3786\"],[0.5555555555555556,\"#d8576b\"],[0.6666666666666666,\"#ed7953\"],[0.7777777777777778,\"#fb9f3a\"],[0.8888888888888888,\"#fdca26\"],[1.0,\"#f0f921\"]]}],\"mesh3d\":[{\"type\":\"mesh3d\",\"colorbar\":{\"outlinewidth\":0,\"ticks\":\"\"}}],\"scatter\":[{\"fillpattern\":{\"fillmode\":\"overlay\",\"size\":10,\"solidity\":0.2},\"type\":\"scatter\"}],\"parcoords\":[{\"type\":\"parcoords\",\"line\":{\"colorbar\":{\"outlinewidth\":0,\"ticks\":\"\"}}}],\"scatterpolargl\":[{\"type\":\"scatterpolargl\",\"marker\":{\"colorbar\":{\"outlinewidth\":0,\"ticks\":\"\"}}}],\"bar\":[{\"error_x\":{\"color\":\"#2a3f5f\"},\"error_y\":{\"color\":\"#2a3f5f\"},\"marker\":{\"line\":{\"color\":\"#E5ECF6\",\"width\":0.5},\"pattern\":{\"fillmode\":\"overlay\",\"size\":10,\"solidity\":0.2}},\"type\":\"bar\"}],\"scattergeo\":[{\"type\":\"scattergeo\",\"marker\":{\"colorbar\":{\"outlinewidth\":0,\"ticks\":\"\"}}}],\"scatterpolar\":[{\"type\":\"scatterpolar\",\"marker\":{\"colorbar\":{\"outlinewidth\":0,\"ticks\":\"\"}}}],\"histogram\":[{\"marker\":{\"pattern\":{\"fillmode\":\"overlay\",\"size\":10,\"solidity\":0.2}},\"type\":\"histogram\"}],\"scattergl\":[{\"type\":\"scattergl\",\"marker\":{\"colorbar\":{\"outlinewidth\":0,\"ticks\":\"\"}}}],\"scatter3d\":[{\"type\":\"scatter3d\",\"line\":{\"colorbar\":{\"outlinewidth\":0,\"ticks\":\"\"}},\"marker\":{\"colorbar\":{\"outlinewidth\":0,\"ticks\":\"\"}}}],\"scattermapbox\":[{\"type\":\"scattermapbox\",\"marker\":{\"colorbar\":{\"outlinewidth\":0,\"ticks\":\"\"}}}],\"scatterternary\":[{\"type\":\"scatterternary\",\"marker\":{\"colorbar\":{\"outlinewidth\":0,\"ticks\":\"\"}}}],\"scattercarpet\":[{\"type\":\"scattercarpet\",\"marker\":{\"colorbar\":{\"outlinewidth\":0,\"ticks\":\"\"}}}],\"carpet\":[{\"aaxis\":{\"endlinecolor\":\"#2a3f5f\",\"gridcolor\":\"white\",\"linecolor\":\"white\",\"minorgridcolor\":\"white\",\"startlinecolor\":\"#2a3f5f\"},\"baxis\":{\"endlinecolor\":\"#2a3f5f\",\"gridcolor\":\"white\",\"linecolor\":\"white\",\"minorgridcolor\":\"white\",\"startlinecolor\":\"#2a3f5f\"},\"type\":\"carpet\"}],\"table\":[{\"cells\":{\"fill\":{\"color\":\"#EBF0F8\"},\"line\":{\"color\":\"white\"}},\"header\":{\"fill\":{\"color\":\"#C8D4E3\"},\"line\":{\"color\":\"white\"}},\"type\":\"table\"}],\"barpolar\":[{\"marker\":{\"line\":{\"color\":\"#E5ECF6\",\"width\":0.5},\"pattern\":{\"fillmode\":\"overlay\",\"size\":10,\"solidity\":0.2}},\"type\":\"barpolar\"}],\"pie\":[{\"automargin\":true,\"type\":\"pie\"}]},\"layout\":{\"autotypenumbers\":\"strict\",\"colorway\":[\"#636efa\",\"#EF553B\",\"#00cc96\",\"#ab63fa\",\"#FFA15A\",\"#19d3f3\",\"#FF6692\",\"#B6E880\",\"#FF97FF\",\"#FECB52\"],\"font\":{\"color\":\"#2a3f5f\"},\"hovermode\":\"closest\",\"hoverlabel\":{\"align\":\"left\"},\"paper_bgcolor\":\"white\",\"plot_bgcolor\":\"#E5ECF6\",\"polar\":{\"bgcolor\":\"#E5ECF6\",\"angularaxis\":{\"gridcolor\":\"white\",\"linecolor\":\"white\",\"ticks\":\"\"},\"radialaxis\":{\"gridcolor\":\"white\",\"linecolor\":\"white\",\"ticks\":\"\"}},\"ternary\":{\"bgcolor\":\"#E5ECF6\",\"aaxis\":{\"gridcolor\":\"white\",\"linecolor\":\"white\",\"ticks\":\"\"},\"baxis\":{\"gridcolor\":\"white\",\"linecolor\":\"white\",\"ticks\":\"\"},\"caxis\":{\"gridcolor\":\"white\",\"linecolor\":\"white\",\"ticks\":\"\"}},\"coloraxis\":{\"colorbar\":{\"outlinewidth\":0,\"ticks\":\"\"}},\"colorscale\":{\"sequential\":[[0.0,\"#0d0887\"],[0.1111111111111111,\"#46039f\"],[0.2222222222222222,\"#7201a8\"],[0.3333333333333333,\"#9c179e\"],[0.4444444444444444,\"#bd3786\"],[0.5555555555555556,\"#d8576b\"],[0.6666666666666666,\"#ed7953\"],[0.7777777777777778,\"#fb9f3a\"],[0.8888888888888888,\"#fdca26\"],[1.0,\"#f0f921\"]],\"sequentialminus\":[[0.0,\"#0d0887\"],[0.1111111111111111,\"#46039f\"],[0.2222222222222222,\"#7201a8\"],[0.3333333333333333,\"#9c179e\"],[0.4444444444444444,\"#bd3786\"],[0.5555555555555556,\"#d8576b\"],[0.6666666666666666,\"#ed7953\"],[0.7777777777777778,\"#fb9f3a\"],[0.8888888888888888,\"#fdca26\"],[1.0,\"#f0f921\"]],\"diverging\":[[0,\"#8e0152\"],[0.1,\"#c51b7d\"],[0.2,\"#de77ae\"],[0.3,\"#f1b6da\"],[0.4,\"#fde0ef\"],[0.5,\"#f7f7f7\"],[0.6,\"#e6f5d0\"],[0.7,\"#b8e186\"],[0.8,\"#7fbc41\"],[0.9,\"#4d9221\"],[1,\"#276419\"]]},\"xaxis\":{\"gridcolor\":\"white\",\"linecolor\":\"white\",\"ticks\":\"\",\"title\":{\"standoff\":15},\"zerolinecolor\":\"white\",\"automargin\":true,\"zerolinewidth\":2},\"yaxis\":{\"gridcolor\":\"white\",\"linecolor\":\"white\",\"ticks\":\"\",\"title\":{\"standoff\":15},\"zerolinecolor\":\"white\",\"automargin\":true,\"zerolinewidth\":2},\"scene\":{\"xaxis\":{\"backgroundcolor\":\"#E5ECF6\",\"gridcolor\":\"white\",\"linecolor\":\"white\",\"showbackground\":true,\"ticks\":\"\",\"zerolinecolor\":\"white\",\"gridwidth\":2},\"yaxis\":{\"backgroundcolor\":\"#E5ECF6\",\"gridcolor\":\"white\",\"linecolor\":\"white\",\"showbackground\":true,\"ticks\":\"\",\"zerolinecolor\":\"white\",\"gridwidth\":2},\"zaxis\":{\"backgroundcolor\":\"#E5ECF6\",\"gridcolor\":\"white\",\"linecolor\":\"white\",\"showbackground\":true,\"ticks\":\"\",\"zerolinecolor\":\"white\",\"gridwidth\":2}},\"shapedefaults\":{\"line\":{\"color\":\"#2a3f5f\"}},\"annotationdefaults\":{\"arrowcolor\":\"#2a3f5f\",\"arrowhead\":0,\"arrowwidth\":1},\"geo\":{\"bgcolor\":\"white\",\"landcolor\":\"#E5ECF6\",\"subunitcolor\":\"white\",\"showland\":true,\"showlakes\":true,\"lakecolor\":\"white\"},\"title\":{\"x\":0.05},\"mapbox\":{\"style\":\"light\"}}},\"margin\":{\"r\":20,\"b\":10,\"l\":10,\"t\":40},\"title\":{\"text\":\"3D Vector Store Visualization\"},\"scene\":{\"xaxis\":{\"title\":{\"text\":\"x\"}},\"yaxis\":{\"title\":{\"text\":\"y\"}},\"zaxis\":{\"title\":{\"text\":\"z\"}}},\"width\":900,\"height\":700},                        {\"responsive\": true}                    ).then(function(){\n",
              "                            \n",
              "var gd = document.getElementById('ca877b9e-75a7-47cb-9942-7222f4afea38');\n",
              "var x = new MutationObserver(function (mutations, observer) {{\n",
              "        var display = window.getComputedStyle(gd).display;\n",
              "        if (!display || display === 'none') {{\n",
              "            console.log([gd, 'removed!']);\n",
              "            Plotly.purge(gd);\n",
              "            observer.disconnect();\n",
              "        }}\n",
              "}});\n",
              "\n",
              "// Listen for the removal of the full notebook cells\n",
              "var notebookContainer = gd.closest('#notebook-container');\n",
              "if (notebookContainer) {{\n",
              "    x.observe(notebookContainer, {childList: true});\n",
              "}}\n",
              "\n",
              "// Listen for the clearing of the current output cell\n",
              "var outputEl = gd.closest('.output');\n",
              "if (outputEl) {{\n",
              "    x.observe(outputEl, {childList: true});\n",
              "}}\n",
              "\n",
              "                        })                };                            </script>        </div>\n",
              "</body>\n",
              "</html>"
            ]
          },
          "metadata": {},
          "output_type": "display_data"
        }
      ],
      "source": [
        "# 3D\n",
        "\n",
        "tsne = TSNE(n_components=3, random_state=42)\n",
        "reduced_vectors = tsne.fit_transform(vectors)\n",
        "\n",
        "# Create the 3D scatter plot\n",
        "fig = go.Figure(data=[go.Scatter3d(\n",
        "    x=reduced_vectors[:, 0],\n",
        "    y=reduced_vectors[:, 1],\n",
        "    z=reduced_vectors[:, 2],\n",
        "    mode='markers',\n",
        "    marker=dict(size=5, color=colors, opacity=0.8),\n",
        "    text=[f\"Type: {t}<br>Text: {d[:100]}...\" for t, d in zip(doc_types, documents)],\n",
        "    hoverinfo='text'\n",
        ")])\n",
        "\n",
        "fig.update_layout(\n",
        "    title='3D Vector Store Visualization',\n",
        "    scene=dict(xaxis_title='x', yaxis_title='y', zaxis_title='z'),\n",
        "    width=900,\n",
        "    height=700,\n",
        "    margin=dict(r=20, b=10, l=10, t=40)\n",
        ")\n",
        "\n",
        "fig.show()"
      ]
    },
    {
      "cell_type": "code",
      "execution_count": 28,
      "metadata": {
        "colab": {
          "base_uri": "https://localhost:8080/"
        },
        "id": "-_55bLUZA4WB",
        "outputId": "b4af3d8b-8d96-4381-d724-7df86e7713a1"
      },
      "outputs": [
        {
          "name": "stderr",
          "output_type": "stream",
          "text": [
            "<ipython-input-28-fd62d028c018>:5: LangChainDeprecationWarning:\n",
            "\n",
            "Please see the migration guide at: https://python.langchain.com/docs/versions/migrating_memory/\n",
            "\n"
          ]
        }
      ],
      "source": [
        "# create a new Chat with OpenAI\n",
        "llm = ChatOpenAI(temperature=0.5, model_name=MODEL, openai_api_key=userdata.get(\"OPENAI_API_KEY\"))\n",
        "\n",
        "# set up the conversation memory for the chat\n",
        "memory = ConversationBufferMemory(memory_key='chat_history', return_messages=True)\n",
        "\n",
        "# the retriever is an abstraction over the VectorStore that will be used during RAG\n",
        "retriever = vectorstore.as_retriever(search_kwargs={\"k\": 10})\n",
        "\n",
        "# putting it together: set up the conversation chain with the LLM model, the vector store and memory\n",
        "conversation_chain = ConversationalRetrievalChain.from_llm(llm=llm, retriever=retriever, memory=memory)"
      ]
    },
    {
      "cell_type": "code",
      "execution_count": 29,
      "metadata": {
        "id": "gh_VQdVb7VqM"
      },
      "outputs": [],
      "source": [
        "# Handles a conversational interaction by processing a user's question within a conversation context.\n",
        "def chat(question, history):\n",
        "    result = conversation_chain.invoke({\"question\": question})\n",
        "    return result[\"answer\"]"
      ]
    },
    {
      "cell_type": "code",
      "execution_count": 30,
      "metadata": {
        "colab": {
          "base_uri": "https://localhost:8080/",
          "height": 648
        },
        "id": "mSyL7FmEBBQ9",
        "outputId": "380766ba-ce77-4a59-f56f-c830513eaf1e"
      },
      "outputs": [
        {
          "name": "stdout",
          "output_type": "stream",
          "text": [
            "Running Gradio in a Colab notebook requires sharing enabled. Automatically setting `share=True` (you can turn this off by setting `share=False` in `launch()` explicitly).\n",
            "\n",
            "Colab notebook detected. To show errors in colab notebook, set debug=True in launch()\n",
            "* Running on public URL: https://306b90f4a01cceedbf.gradio.live\n",
            "\n",
            "This share link expires in 72 hours. For free permanent hosting and GPU upgrades, run `gradio deploy` from the terminal in the working directory to deploy to Hugging Face Spaces (https://huggingface.co/spaces)\n"
          ]
        },
        {
          "data": {
            "text/html": [
              "<div><iframe src=\"https://306b90f4a01cceedbf.gradio.live\" width=\"100%\" height=\"500\" allow=\"autoplay; camera; microphone; clipboard-read; clipboard-write;\" frameborder=\"0\" allowfullscreen></iframe></div>"
            ],
            "text/plain": [
              "<IPython.core.display.HTML object>"
            ]
          },
          "metadata": {},
          "output_type": "display_data"
        }
      ],
      "source": [
        "# launch the Gradio interface, ask the Chatbot questions about Octopath Traveler 2\n",
        "view = gr.ChatInterface(chat, type=\"messages\").launch(inbrowser=True)"
      ]
    },
    {
      "cell_type": "code",
      "execution_count": null,
      "metadata": {
        "id": "vfOAqBWb7WBX"
      },
      "outputs": [],
      "source": []
    }
  ],
  "metadata": {
    "colab": {
      "provenance": []
    },
    "kernelspec": {
      "display_name": "Python 3",
      "name": "python3"
    },
    "language_info": {
      "name": "python"
    }
  },
  "nbformat": 4,
  "nbformat_minor": 0
}
